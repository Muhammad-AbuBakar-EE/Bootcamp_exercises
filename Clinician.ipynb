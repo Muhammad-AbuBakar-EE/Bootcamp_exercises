{
  "nbformat": 4,
  "nbformat_minor": 0,
  "metadata": {
    "colab": {
      "provenance": []
    },
    "kernelspec": {
      "name": "python3",
      "display_name": "Python 3"
    },
    "language_info": {
      "name": "python"
    }
  },
  "cells": [
    {
      "cell_type": "code",
      "source": [
        "!pip install openai -q\n",
        "!!pip3 install -qU \\\n",
        "    langchain \\\n",
        "    pinecone-client\n",
        "\n",
        "!pip3 install protobuf==3.20.3 -q\n",
        "!pip3 install apache-beam==2.50.0 -q\n",
        "!!pip install gradio -q"
      ],
      "metadata": {
        "colab": {
          "base_uri": "https://localhost:8080/"
        },
        "id": "7mwZF0EuzDQp",
        "outputId": "d752cbc3-0284-4c06-8203-7b5f9c605632"
      },
      "execution_count": null,
      "outputs": [
        {
          "output_type": "stream",
          "name": "stdout",
          "text": [
            "\u001b[2K     \u001b[90m━━━━━━━━━━━━━━━━━━━━━━━━━━━━━━━━━━━━━━━━\u001b[0m \u001b[32m221.4/221.4 kB\u001b[0m \u001b[31m2.2 MB/s\u001b[0m eta \u001b[36m0:00:00\u001b[0m\n",
            "\u001b[2K     \u001b[90m━━━━━━━━━━━━━━━━━━━━━━━━━━━━━━━━━━━━━━━━\u001b[0m \u001b[32m75.0/75.0 kB\u001b[0m \u001b[31m6.3 MB/s\u001b[0m eta \u001b[36m0:00:00\u001b[0m\n",
            "\u001b[2K     \u001b[90m━━━━━━━━━━━━━━━━━━━━━━━━━━━━━━━━━━━━━━━━\u001b[0m \u001b[32m76.9/76.9 kB\u001b[0m \u001b[31m6.4 MB/s\u001b[0m eta \u001b[36m0:00:00\u001b[0m\n",
            "\u001b[2K     \u001b[90m━━━━━━━━━━━━━━━━━━━━━━━━━━━━━━━━━━━━━━━━\u001b[0m \u001b[32m58.3/58.3 kB\u001b[0m \u001b[31m4.1 MB/s\u001b[0m eta \u001b[36m0:00:00\u001b[0m\n",
            "\u001b[?25h\u001b[31mERROR: pip's dependency resolver does not currently take into account all the packages that are installed. This behaviour is the source of the following dependency conflicts.\n",
            "llmx 0.0.15a0 requires cohere, which is not installed.\n",
            "llmx 0.0.15a0 requires tiktoken, which is not installed.\u001b[0m\u001b[31m\n",
            "\u001b[2K     \u001b[90m━━━━━━━━━━━━━━━━━━━━━━━━━━━━━━━━━━━━━━━━\u001b[0m \u001b[32m14.7/14.7 MB\u001b[0m \u001b[31m53.1 MB/s\u001b[0m eta \u001b[36m0:00:00\u001b[0m\n",
            "\u001b[2K     \u001b[90m━━━━━━━━━━━━━━━━━━━━━━━━━━━━━━━━━━━━━━━━\u001b[0m \u001b[32m89.7/89.7 kB\u001b[0m \u001b[31m10.0 MB/s\u001b[0m eta \u001b[36m0:00:00\u001b[0m\n",
            "\u001b[?25h  Preparing metadata (setup.py) ... \u001b[?25l\u001b[?25hdone\n",
            "\u001b[2K     \u001b[90m━━━━━━━━━━━━━━━━━━━━━━━━━━━━━━━━━━━━━━━━\u001b[0m \u001b[32m138.7/138.7 kB\u001b[0m \u001b[31m15.7 MB/s\u001b[0m eta \u001b[36m0:00:00\u001b[0m\n",
            "\u001b[2K     \u001b[90m━━━━━━━━━━━━━━━━━━━━━━━━━━━━━━━━━━━━━━━━\u001b[0m \u001b[32m152.0/152.0 kB\u001b[0m \u001b[31m16.9 MB/s\u001b[0m eta \u001b[36m0:00:00\u001b[0m\n",
            "\u001b[?25h  Preparing metadata (setup.py) ... \u001b[?25l\u001b[?25hdone\n",
            "\u001b[2K     \u001b[90m━━━━━━━━━━━━━━━━━━━━━━━━━━━━━━━━━━━━━━━━\u001b[0m \u001b[32m3.1/3.1 MB\u001b[0m \u001b[31m84.3 MB/s\u001b[0m eta \u001b[36m0:00:00\u001b[0m\n",
            "\u001b[2K     \u001b[90m━━━━━━━━━━━━━━━━━━━━━━━━━━━━━━━━━━━━━━━━\u001b[0m \u001b[32m43.5/43.5 kB\u001b[0m \u001b[31m5.0 MB/s\u001b[0m eta \u001b[36m0:00:00\u001b[0m\n",
            "\u001b[?25h  Preparing metadata (setup.py) ... \u001b[?25l\u001b[?25hdone\n",
            "\u001b[2K     \u001b[90m━━━━━━━━━━━━━━━━━━━━━━━━━━━━━━━━━━━━━━━━\u001b[0m \u001b[32m677.1/677.1 kB\u001b[0m \u001b[31m44.2 MB/s\u001b[0m eta \u001b[36m0:00:00\u001b[0m\n",
            "\u001b[2K     \u001b[90m━━━━━━━━━━━━━━━━━━━━━━━━━━━━━━━━━━━━━━━━\u001b[0m \u001b[32m5.4/5.4 MB\u001b[0m \u001b[31m72.6 MB/s\u001b[0m eta \u001b[36m0:00:00\u001b[0m\n",
            "\u001b[?25h  Preparing metadata (setup.py) ... \u001b[?25l\u001b[?25hdone\n",
            "  Building wheel for crcmod (setup.py) ... \u001b[?25l\u001b[?25hdone\n",
            "  Building wheel for dill (setup.py) ... \u001b[?25l\u001b[?25hdone\n",
            "  Building wheel for hdfs (setup.py) ... \u001b[?25l\u001b[?25hdone\n",
            "  Building wheel for docopt (setup.py) ... \u001b[?25l\u001b[?25hdone\n"
          ]
        },
        {
          "output_type": "execute_result",
          "data": {
            "text/plain": [
              "['\\x1b[?25l     \\x1b[90m━━━━━━━━━━━━━━━━━━━━━━━━━━━━━━━━━━━━━━━━\\x1b[0m \\x1b[32m0.0/16.6 MB\\x1b[0m \\x1b[31m?\\x1b[0m eta \\x1b[36m-:--:--\\x1b[0m',\n",
              " '\\x1b[2K     \\x1b[90m━━━━━━━━━━━━━━━━━━━━━━━━━━━━━━━━━━━━━━━━\\x1b[0m \\x1b[32m0.1/16.6 MB\\x1b[0m \\x1b[31m2.6 MB/s\\x1b[0m eta \\x1b[36m0:00:07\\x1b[0m',\n",
              " '\\x1b[2K     \\x1b[91m━\\x1b[0m\\x1b[91m╸\\x1b[0m\\x1b[90m━━━━━━━━━━━━━━━━━━━━━━━━━━━━━━━━━━━━━━\\x1b[0m \\x1b[32m0.7/16.6 MB\\x1b[0m \\x1b[31m10.9 MB/s\\x1b[0m eta \\x1b[36m0:00:02\\x1b[0m',\n",
              " '\\x1b[2K     \\x1b[91m━━━━━━━━━━\\x1b[0m\\x1b[90m╺\\x1b[0m\\x1b[90m━━━━━━━━━━━━━━━━━━━━━━━━━━━━━\\x1b[0m \\x1b[32m4.2/16.6 MB\\x1b[0m \\x1b[31m40.6 MB/s\\x1b[0m eta \\x1b[36m0:00:01\\x1b[0m',\n",
              " '\\x1b[2K     \\x1b[91m━━━━━━━━━━━━━━━━━━━━━━━━\\x1b[0m\\x1b[91m╸\\x1b[0m\\x1b[90m━━━━━━━━━━━━━━━\\x1b[0m \\x1b[32m10.3/16.6 MB\\x1b[0m \\x1b[31m91.2 MB/s\\x1b[0m eta \\x1b[36m0:00:01\\x1b[0m',\n",
              " '\\x1b[2K     \\x1b[91m━━━━━━━━━━━━━━━━━━━━━━━━━━━━━━━━━━━━━━━\\x1b[0m\\x1b[91m╸\\x1b[0m \\x1b[32m16.5/16.6 MB\\x1b[0m \\x1b[31m190.4 MB/s\\x1b[0m eta \\x1b[36m0:00:01\\x1b[0m',\n",
              " '\\x1b[2K     \\x1b[91m━━━━━━━━━━━━━━━━━━━━━━━━━━━━━━━━━━━━━━━\\x1b[0m\\x1b[91m╸\\x1b[0m \\x1b[32m16.5/16.6 MB\\x1b[0m \\x1b[31m190.4 MB/s\\x1b[0m eta \\x1b[36m0:00:01\\x1b[0m',\n",
              " '\\x1b[2K     \\x1b[90m━━━━━━━━━━━━━━━━━━━━━━━━━━━━━━━━━━━━━━━━\\x1b[0m \\x1b[32m16.6/16.6 MB\\x1b[0m \\x1b[31m79.8 MB/s\\x1b[0m eta \\x1b[36m0:00:00\\x1b[0m',\n",
              " '\\x1b[?25h\\x1b[?25l     \\x1b[90m━━━━━━━━━━━━━━━━━━━━━━━━━━━━━━━━━━━━━━━━\\x1b[0m \\x1b[32m0.0/93.1 kB\\x1b[0m \\x1b[31m?\\x1b[0m eta \\x1b[36m-:--:--\\x1b[0m',\n",
              " '\\x1b[2K     \\x1b[90m━━━━━━━━━━━━━━━━━━━━━━━━━━━━━━━━━━━━━━━━\\x1b[0m \\x1b[32m93.1/93.1 kB\\x1b[0m \\x1b[31m10.5 MB/s\\x1b[0m eta \\x1b[36m0:00:00\\x1b[0m',\n",
              " '\\x1b[?25h  Preparing metadata (setup.py) ... \\x1b[?25l\\x1b[?25hdone',\n",
              " '\\x1b[?25l     \\x1b[90m━━━━━━━━━━━━━━━━━━━━━━━━━━━━━━━━━━━━━━━━\\x1b[0m \\x1b[32m0.0/304.6 kB\\x1b[0m \\x1b[31m?\\x1b[0m eta \\x1b[36m-:--:--\\x1b[0m',\n",
              " '\\x1b[2K     \\x1b[90m━━━━━━━━━━━━━━━━━━━━━━━━━━━━━━━━━━━━━━━━\\x1b[0m \\x1b[32m304.6/304.6 kB\\x1b[0m \\x1b[31m32.1 MB/s\\x1b[0m eta \\x1b[36m0:00:00\\x1b[0m',\n",
              " '\\x1b[?25h\\x1b[?25l     \\x1b[90m━━━━━━━━━━━━━━━━━━━━━━━━━━━━━━━━━━━━━━━━\\x1b[0m \\x1b[32m0.0/381.9 kB\\x1b[0m \\x1b[31m?\\x1b[0m eta \\x1b[36m-:--:--\\x1b[0m',\n",
              " '\\x1b[2K     \\x1b[90m━━━━━━━━━━━━━━━━━━━━━━━━━━━━━━━━━━━━━━━━\\x1b[0m \\x1b[32m381.9/381.9 kB\\x1b[0m \\x1b[31m34.9 MB/s\\x1b[0m eta \\x1b[36m0:00:00\\x1b[0m',\n",
              " '\\x1b[?25h\\x1b[?25l     \\x1b[90m━━━━━━━━━━━━━━━━━━━━━━━━━━━━━━━━━━━━━━━━\\x1b[0m \\x1b[32m0.0/45.7 kB\\x1b[0m \\x1b[31m?\\x1b[0m eta \\x1b[36m-:--:--\\x1b[0m',\n",
              " '\\x1b[2K     \\x1b[90m━━━━━━━━━━━━━━━━━━━━━━━━━━━━━━━━━━━━━━━━\\x1b[0m \\x1b[32m45.7/45.7 kB\\x1b[0m \\x1b[31m5.6 MB/s\\x1b[0m eta \\x1b[36m0:00:00\\x1b[0m',\n",
              " '\\x1b[?25h\\x1b[?25l     \\x1b[90m━━━━━━━━━━━━━━━━━━━━━━━━━━━━━━━━━━━━━━━━\\x1b[0m \\x1b[32m0.0/59.7 kB\\x1b[0m \\x1b[31m?\\x1b[0m eta \\x1b[36m-:--:--\\x1b[0m',\n",
              " '\\x1b[2K     \\x1b[90m━━━━━━━━━━━━━━━━━━━━━━━━━━━━━━━━━━━━━━━━\\x1b[0m \\x1b[32m59.7/59.7 kB\\x1b[0m \\x1b[31m7.3 MB/s\\x1b[0m eta \\x1b[36m0:00:00\\x1b[0m',\n",
              " '\\x1b[?25h\\x1b[?25l     \\x1b[90m━━━━━━━━━━━━━━━━━━━━━━━━━━━━━━━━━━━━━━━━\\x1b[0m \\x1b[32m0.0/129.9 kB\\x1b[0m \\x1b[31m?\\x1b[0m eta \\x1b[36m-:--:--\\x1b[0m',\n",
              " '\\x1b[2K     \\x1b[90m━━━━━━━━━━━━━━━━━━━━━━━━━━━━━━━━━━━━━━━━\\x1b[0m \\x1b[32m129.9/129.9 kB\\x1b[0m \\x1b[31m16.7 MB/s\\x1b[0m eta \\x1b[36m0:00:00\\x1b[0m',\n",
              " '\\x1b[?25h\\x1b[?25l     \\x1b[90m━━━━━━━━━━━━━━━━━━━━━━━━━━━━━━━━━━━━━━━━\\x1b[0m \\x1b[32m0.0/2.1 MB\\x1b[0m \\x1b[31m?\\x1b[0m eta \\x1b[36m-:--:--\\x1b[0m',\n",
              " '\\x1b[2K     \\x1b[90m━━━━━━━━━━━━━━━━━━━━━━━━━━━━━━━━━━━━━━━━\\x1b[0m \\x1b[32m2.1/2.1 MB\\x1b[0m \\x1b[31m69.6 MB/s\\x1b[0m eta \\x1b[36m0:00:00\\x1b[0m',\n",
              " '\\x1b[?25h\\x1b[?25l     \\x1b[90m━━━━━━━━━━━━━━━━━━━━━━━━━━━━━━━━━━━━━━━━\\x1b[0m \\x1b[32m0.0/67.0 kB\\x1b[0m \\x1b[31m?\\x1b[0m eta \\x1b[36m-:--:--\\x1b[0m',\n",
              " '\\x1b[2K     \\x1b[90m━━━━━━━━━━━━━━━━━━━━━━━━━━━━━━━━━━━━━━━━\\x1b[0m \\x1b[32m67.0/67.0 kB\\x1b[0m \\x1b[31m7.8 MB/s\\x1b[0m eta \\x1b[36m0:00:00\\x1b[0m',\n",
              " '\\x1b[?25h  Building wheel for ffmpy (setup.py) ... \\x1b[?25l\\x1b[?25hdone',\n",
              " \"\\x1b[31mERROR: pip's dependency resolver does not currently take into account all the packages that are installed. This behaviour is the source of the following dependency conflicts.\",\n",
              " 'lida 0.0.10 requires kaleido, which is not installed.',\n",
              " 'llmx 0.0.15a0 requires cohere, which is not installed.',\n",
              " 'llmx 0.0.15a0 requires tiktoken, which is not installed.',\n",
              " 'tensorflow-probability 0.22.0 requires typing-extensions<4.6.0, but you have typing-extensions 4.9.0 which is incompatible.\\x1b[0m\\x1b[31m',\n",
              " '\\x1b[0m']"
            ]
          },
          "metadata": {},
          "execution_count": 1
        }
      ]
    },
    {
      "cell_type": "code",
      "source": [
        "!pip install tiktoken -q"
      ],
      "metadata": {
        "colab": {
          "base_uri": "https://localhost:8080/"
        },
        "id": "3OZYXDg--0VG",
        "outputId": "dc40a64b-e7c8-4b32-9673-5772a0a888a2"
      },
      "execution_count": null,
      "outputs": [
        {
          "output_type": "stream",
          "name": "stdout",
          "text": [
            "\u001b[?25l     \u001b[90m━━━━━━━━━━━━━━━━━━━━━━━━━━━━━━━━━━━━━━━━\u001b[0m \u001b[32m0.0/2.0 MB\u001b[0m \u001b[31m?\u001b[0m eta \u001b[36m-:--:--\u001b[0m\r\u001b[2K     \u001b[91m━\u001b[0m\u001b[91m╸\u001b[0m\u001b[90m━━━━━━━━━━━━━━━━━━━━━━━━━━━━━━━━━━━━━━\u001b[0m \u001b[32m0.1/2.0 MB\u001b[0m \u001b[31m2.5 MB/s\u001b[0m eta \u001b[36m0:00:01\u001b[0m\r\u001b[2K     \u001b[91m━━━━━━━━━━━━━━\u001b[0m\u001b[91m╸\u001b[0m\u001b[90m━━━━━━━━━━━━━━━━━━━━━━━━━\u001b[0m \u001b[32m0.7/2.0 MB\u001b[0m \u001b[31m10.7 MB/s\u001b[0m eta \u001b[36m0:00:01\u001b[0m\r\u001b[2K     \u001b[90m━━━━━━━━━━━━━━━━━━━━━━━━━━━━━━━━━━━━━━━━\u001b[0m \u001b[32m2.0/2.0 MB\u001b[0m \u001b[31m19.2 MB/s\u001b[0m eta \u001b[36m0:00:00\u001b[0m\n",
            "\u001b[?25h\u001b[31mERROR: pip's dependency resolver does not currently take into account all the packages that are installed. This behaviour is the source of the following dependency conflicts.\n",
            "llmx 0.0.15a0 requires cohere, which is not installed.\u001b[0m\u001b[31m\n",
            "\u001b[0m"
          ]
        }
      ]
    },
    {
      "cell_type": "code",
      "source": [
        "import gradio as gr"
      ],
      "metadata": {
        "id": "KAB33KWRRnRs"
      },
      "execution_count": null,
      "outputs": []
    },
    {
      "cell_type": "code",
      "source": [
        "from google.colab import userdata\n",
        "open_ai = userdata.get('OPENAI_API_KEY')\n",
        "pinecone_api = userdata.get('PINECONE_API')"
      ],
      "metadata": {
        "id": "0qJzCKZLWwG9"
      },
      "execution_count": null,
      "outputs": []
    },
    {
      "cell_type": "code",
      "source": [
        "import os\n",
        "import openai\n",
        "from openai import OpenAI\n",
        "import tiktoken\n",
        "from langchain.embeddings.openai import OpenAIEmbeddings\n",
        "from langchain.text_splitter import RecursiveCharacterTextSplitter\n",
        "import pandas as pd\n",
        "import pinecone\n",
        "from langchain.chains.router import MultiPromptChain\n",
        "from langchain.chains.router.llm_router import LLMRouterChain,RouterOutputParser\n",
        "from langchain.prompts import ChatPromptTemplate\n",
        "from langchain.chat_models import ChatOpenAI\n",
        "from langchain.chains import ConversationChain\n",
        "from langchain.memory import ConversationBufferMemory\n",
        "from langchain.memory import ConversationBufferWindowMemory\n",
        "from langchain.chains import LLMChain\n",
        "from langchain.prompts import PromptTemplate"
      ],
      "metadata": {
        "id": "ZKWdvhL7zCCZ"
      },
      "execution_count": null,
      "outputs": []
    },
    {
      "cell_type": "code",
      "source": [
        "os.environ['OPENAI_API_KEY'] = open_ai  #Initialize API Key\n",
        "client = OpenAI()"
      ],
      "metadata": {
        "id": "d86tHcQ2Ws9R"
      },
      "execution_count": null,
      "outputs": []
    },
    {
      "cell_type": "code",
      "source": [
        "\n",
        "YOUR_API_KEY = pinecone_api\n",
        "# Find ENV (cloud region) next to API key in console\n",
        "YOUR_ENV = 'gcp-starter'\n",
        "\n",
        "INDEX_NAME = 'temp'\n",
        "# Initialize Pinecone client\n",
        "pinecone.init(\n",
        "    api_key=YOUR_API_KEY,\n",
        "    environment=YOUR_ENV\n",
        ")\n",
        "demo_index = pinecone.Index('temp')"
      ],
      "metadata": {
        "id": "ELvpE-MyLN0-"
      },
      "execution_count": null,
      "outputs": []
    },
    {
      "cell_type": "code",
      "source": [
        "model_name = 'text-embedding-ada-002'\n",
        "embed = OpenAIEmbeddings(\n",
        "    model=model_name,\n",
        ")"
      ],
      "metadata": {
        "id": "kAdGAw-8LzBj"
      },
      "execution_count": null,
      "outputs": []
    },
    {
      "cell_type": "markdown",
      "source": [
        "# Agent Convert **ROMAN URDU** into **English**"
      ],
      "metadata": {
        "id": "BTC86SRzX4xf"
      }
    },
    {
      "cell_type": "code",
      "execution_count": null,
      "metadata": {
        "id": "jlMrySwQVaFQ"
      },
      "outputs": [],
      "source": [
        " def urdu_to_English(messages):\n",
        "      response = client.chat.completions.create(\n",
        "                model=\"gpt-3.5-turbo\",\n",
        "                        messages=messages,\n",
        "                        temperature=1,\n",
        "                        max_tokens=256,\n",
        "                        top_p=1,\n",
        "                        frequency_penalty=0,\n",
        "                        presence_penalty=0\n",
        "                )\n",
        "      return response.choices[0].message.content\n",
        "\n"
      ]
    },
    {
      "cell_type": "code",
      "source": [
        "# Prompt Template for translation.\n",
        "messages = [\n",
        "            {\n",
        "              \"role\": \"system\",\n",
        "              \"content\": \"You are a  exceptional Roman Urdu to English Translator.  You translate roman Urdu sentences into English sentences.\"\n",
        "            },\n",
        "            {\n",
        "              \"role\": \"user\"\n",
        "\n",
        "            }\n",
        "        ]"
      ],
      "metadata": {
        "id": "q-QevI0b8zvB"
      },
      "execution_count": null,
      "outputs": []
    },
    {
      "cell_type": "code",
      "source": [
        "sentence  = \"meri age 28 saal ha or me aik aurat hu Mery sir me drd ha or 2 din sy bukhar ha or weakness feel ho rhi ha. Kl dawai ly thi pr uska koi faida nai howa. \\\n",
        "Is sy pehly  aesy nai hota tha.\"\n",
        "messages[1]['content'] = sentence\n",
        "messages"
      ],
      "metadata": {
        "colab": {
          "base_uri": "https://localhost:8080/"
        },
        "id": "1UoyRy038cR9",
        "outputId": "c4695cfd-676b-4358-b2d1-9db1a0f96a47"
      },
      "execution_count": null,
      "outputs": [
        {
          "output_type": "execute_result",
          "data": {
            "text/plain": [
              "[{'role': 'system',\n",
              "  'content': 'You are a  exceptional Roman Urdu to English Translator.  You translate roman Urdu sentences into English sentences.'},\n",
              " {'role': 'user',\n",
              "  'content': 'meri age 28 saal ha or me aik aurat hu Mery sir me drd ha or 2 din sy bukhar ha or weakness feel ho rhi ha. Kl dawai ly thi pr uska koi faida nai howa. Is sy pehly  aesy nai hota tha.'}]"
            ]
          },
          "metadata": {},
          "execution_count": 72
        }
      ]
    },
    {
      "cell_type": "code",
      "source": [
        "pinecone_query = urdu_to_English(messages)\n",
        "pinecone_query"
      ],
      "metadata": {
        "colab": {
          "base_uri": "https://localhost:8080/",
          "height": 35
        },
        "id": "q45z5tpgY2Y5",
        "outputId": "ef8c3e38-8b85-4447-dace-d03878662e6c"
      },
      "execution_count": null,
      "outputs": [
        {
          "output_type": "execute_result",
          "data": {
            "text/plain": [
              "\"I am 28 years old and I am a woman. I have a headache and have had a fever for the past 2 days. I am also feeling weak. I took medicine yesterday but it didn't help. This hasn't happened to me before.\""
            ],
            "application/vnd.google.colaboratory.intrinsic+json": {
              "type": "string"
            }
          },
          "metadata": {},
          "execution_count": 73
        }
      ]
    },
    {
      "cell_type": "markdown",
      "source": [
        "# **Data Generator Agent**"
      ],
      "metadata": {
        "id": "UrVVw_iq1xba"
      }
    },
    {
      "cell_type": "code",
      "source": [
        "prompt = \"Your a medical data generator.\\\n",
        "         You  will generate medical data of given disease.\\\n",
        "          Data contain Patient's History, Patients are  female.Records  of body vitals like weight,\\\n",
        "           blood pressure and other body vital data. And description of patient. Data must be in JSON format. \\\n",
        "           JSON keys are History, Body vitals and Descripton of Patient. And values must be in the form of Paragraph .\"\n",
        "\n",
        "data = [\n",
        "            {\n",
        "              \"role\": \"system\",\n",
        "              \"content\": prompt\n",
        "            },\n",
        "            {\n",
        "              \"role\": \"user\"\n",
        "\n",
        "            }\n",
        "        ]"
      ],
      "metadata": {
        "id": "gutcR_KL18RC"
      },
      "execution_count": null,
      "outputs": []
    },
    {
      "cell_type": "code",
      "source": [
        "data[1]['content'] = \"Disease name is 'Dengue Fever'\"\n",
        "data"
      ],
      "metadata": {
        "colab": {
          "base_uri": "https://localhost:8080/"
        },
        "id": "6fKyckoR20Hr",
        "outputId": "9f8c3d14-5796-4dac-a281-f26998fb2b74"
      },
      "execution_count": null,
      "outputs": [
        {
          "output_type": "execute_result",
          "data": {
            "text/plain": [
              "[{'role': 'system',\n",
              "  'content': \"Your a medical data generator.         You  will generate medical data of given disease.          Data contain Patient's History, Patients are  female.Records  of body vitals like weight,           blood pressure and other body vital data. And description of patient. Data must be in JSON format.            JSON keys are History, Body vitals and Descripton of Patient. And values must be in the form of Paragraph .\"},\n",
              " {'role': 'user', 'content': \"Disease name is 'Dengue Fever'\"}]"
            ]
          },
          "metadata": {},
          "execution_count": 37
        }
      ]
    },
    {
      "cell_type": "code",
      "source": [
        "for i in range(3):\n",
        "    data_response = client.chat.completions.create(\n",
        "                    model=\"gpt-3.5-turbo\",\n",
        "                            messages=data,\n",
        "                            temperature=1,\n",
        "                            max_tokens=1024,\n",
        "                            top_p=1,\n",
        "                            frequency_penalty=0,\n",
        "                            presence_penalty=0\n",
        "                    )\n",
        "    respr = data_response.choices[0].message.content\n",
        "    print(respr.split(\"\\n\"))"
      ],
      "metadata": {
        "colab": {
          "base_uri": "https://localhost:8080/"
        },
        "id": "Q7GUSb4W2WqP",
        "outputId": "0e71f6ef-5ec9-49cb-a9ad-debc9513d9f8"
      },
      "execution_count": null,
      "outputs": [
        {
          "output_type": "stream",
          "name": "stdout",
          "text": [
            "['{', '  \"History\": \"The patient, a 35-year-old female, has a history of traveling to a dengue endemic area in the past week. She started experiencing symptoms such as high fever, severe headache, muscle and joint pain, nausea, vomiting, and rash. The patient sought medical attention promptly, and laboratory tests confirmed the diagnosis of dengue fever.\",', '', '  \"Body Vitals\": \"Over the course of the illness, the patient\\'s weight remained stable at 65 kilograms. Her body temperature fluctuated between 38.5 to 40 degrees Celsius, indicating a persistent high-grade fever. The patient\\'s blood pressure was slightly lower than usual, with readings around 100/70 mmHg. Additionally, there was evidence of thrombocytopenia, with a platelet count dropping below 100,000 cells/mm³.\",', '', '  \"Description\": \"The patient appears pale and fatigued, with sunken eyes and dry lips. She complains of generalized body aches and fatigue, which worsen with movement. The rash, known as the \\'dengue rash,\\' is present on the extremities and trunk, consisting of small red spots (petechiae) and maculopapular lesions. The patient reports feeling nauseous and has had episodes of vomiting. She also experiences a severe, throbbing headache, especially behind the eyes. Overall, the patient\\'s condition is consistent with dengue fever, and appropriate measures are being taken for symptom management and fluid balance.\"', '}']\n",
            "['{', '  \"History\": \"The patient is a 38-year-old female who presented with symptoms of dengue fever. She reported experiencing sudden onset of high fever, severe headache, joint and muscle pain, and rash. The patient recently returned from a tropical vacation, where she may have been exposed to mosquito bites. She has no significant medical history or known allergies.\",', '  ', '  \"Body Vitals\": \"The patient\\'s weight is 65 kg. Her blood pressure is within normal range with a systolic pressure of 120 mmHg and a diastolic pressure of 80 mmHg. She has a slightly elevated heart rate of 90 beats per minute. The patient\\'s body temperature is 38.5 degrees Celsius. Blood tests revealed a decreased platelet count and an increased hematocrit level, indicating a possible dengue infection.\",', '  ', '  \"Description\": \"Upon physical examination, the patient appears fatigued and weak. She has a petechial rash on her arms and legs, which is characteristic of dengue fever. The patient complains of severe joint and muscle pain, particularly in her knees and elbows. She also experiences nausea, vomiting, and loss of appetite. The doctor suspects a dengue infection based on the patient\\'s symptoms and travel history, and further tests will be conducted to confirm the diagnosis.\"', '}']\n",
            "['{', '  \"History\": \"The patient with Dengue Fever presented with a history of sudden onset high-grade fever, severe headache, joint and muscle pain, and rash. The fever typically lasts for 5-7 days and is accompanied by other symptoms such as nausea, vomiting, and abdominal pain. The patient also reported a history of mosquito bite exposure in an endemic area.\",', '  \"Body Vitals\": \"The patient\\'s body vitals showed an elevated body temperature of 38.5°C (101.3°F), increased heart rate of 100 beats per minute, and a slightly lowered blood pressure of 110/70 mmHg. Laboratory analysis revealed a reduced platelet count of 100,000 cells/mm³ and an increased hematocrit level of 45%. The patient\\'s weight was recorded as 55 kg.\",', '  \"Description of Patient\": \"The patient is a 28-year-old female who has recently returned from a tropical vacation. She describes her headache as severe and throbbing, and her joint and muscle pain as debilitating. The rash appeared as small red spots on her arms and legs. The patient is experiencing fatigue and overall weakness. She has been advised to take plenty of fluids and rest, and to monitor her body temperature regularly.\"', '}']\n"
          ]
        }
      ]
    },
    {
      "cell_type": "code",
      "source": [],
      "metadata": {
        "colab": {
          "base_uri": "https://localhost:8080/"
        },
        "id": "EnW1Tmxq8c80",
        "outputId": "59d14c10-3ef3-40e5-c02d-97c3611086d4"
      },
      "execution_count": null,
      "outputs": [
        {
          "output_type": "execute_result",
          "data": {
            "text/plain": [
              "['{',\n",
              " '  \"History\": \"The patient, a 35-year-old male, visited the clinic with complaints of high fever, severe headache, and body aches. He mentioned that the symptoms started around a week ago. The patient has a history of travelling to an area known for dengue fever outbreaks. He reported experiencing episodes of nausea and vomiting, along with a loss of appetite. There was no history of any major illness in the past.\",',\n",
              " '  \"Body Vitals\": \"Upon examination, the patient\\'s body temperature was found to be 102°F. His blood pressure was measured at 120/80 mmHg. The patient\\'s weight was recorded as 70 kilograms. Other body vital observations included a rapid heartbeat and a slightly lowered platelet count.\",',\n",
              " '  \"Description\": \"The patient appears weak and fatigued. He has pale skin and complains of dizziness when standing up. His spleen and liver are not enlarged. The patient\\'s blood test confirmed the presence of dengue fever antibodies. He has been advised to take plenty of fluids, rest, and monitor his platelet count regularly to ensure early detection of any complications.\"',\n",
              " '}']"
            ]
          },
          "metadata": {},
          "execution_count": 30
        }
      ]
    },
    {
      "cell_type": "markdown",
      "source": [
        "'{',\n",
        " '  \"History\": \"The patient has a history of recent travel to a tropical or subtropical region where dengue fever is endemic. They may have been exposed to the dengue virus through mosquito bites during their travel. Dengue fever is a viral infection transmitted by the Aedes mosquito.\",',\n",
        " '  \"Body vitals\": \"The patient\\'s body temperature may rise to around 104°F (40°C) during the initial phase of dengue fever. Additionally, they may experience intense headache, joint and muscle pain, rash, and pain behind the eyes. As the fever progresses, their blood platelet count may decrease, leading to an increased risk of bleeding.\",',\n",
        " '  \"Description of Patient\": \"The patient is presenting symptoms of dengue fever, such as high fever, severe headache, and body pain. They may have a rash on their body and complain of pain behind the eyes. The patient\\'s blood platelet count is being monitored regularly to assess their condition and ensure early detection of any complications. Adequate hydration and rest are being provided to support the patient\\'s recovery.\"',\n",
        " '}'\n",
        "\n",
        " '{',\n",
        " '  \"History\": \"The patient, a 35-year-old male, visited the clinic with complaints of high fever, severe headache, and body aches. He mentioned that the symptoms started around a week ago. The patient has a history of travelling to an area known for dengue fever outbreaks. He reported experiencing episodes of nausea and vomiting, along with a loss of appetite. There was no history of any major illness in the past.\",',\n",
        " '  \"Body Vitals\": \"Upon examination, the patient\\'s body temperature was found to be 102°F. His blood pressure was measured at 120/80 mmHg. The patient\\'s weight was recorded as 70 kilograms. Other body vital observations included a rapid heartbeat and a slightly lowered platelet count.\",',\n",
        " '  \"Description\": \"The patient appears weak and fatigued. He has pale skin and complains of dizziness when standing up. His spleen and liver are not enlarged. The patient\\'s blood test confirmed the presence of dengue fever antibodies. He has been advised to take plenty of fluids, rest, and monitor his platelet count regularly to ensure early detection of any complications.\"',\n",
        " '}'\n",
        "\n",
        "\n",
        "['{', '  \"History\": \"Patient has a history of recent travel to a tropical region where dengue fever is prevalent. The patient may have been exposed to the dengue virus through mosquito bites during their travels. It is important to note that dengue fever is not contagious and cannot be spread from person to person.\",', '  \"Body Vitals\": \"Weight: 70 kg\\\\nBody temperature: 38.5°C\\\\nBlood pressure: 120/80 mmHg\\\\nHeart rate: 90 bpm\\\\nRespiratory rate: 16 breaths per minute\\\\nBlood sugar level: 110 mg/dL\",', '  \"Description of Patient\": \"The patient is a 35-year-old male who presented with symptoms such as high fever, severe headache, joint and muscle pain, rash, and fatigue. These symptoms are characteristic of dengue fever. The patient reports feeling weak and experiencing an overall sense of malaise. They have no known underlying medical conditions and have not taken any specific medications prior to the onset of symptoms.\"', '}']\n",
        "\n",
        "['{', '  \"History\": \"The patient is a 38-year-old female who presented with symptoms of dengue fever. She reported experiencing sudden onset of high fever, severe headache, joint and muscle pain, and rash. The patient recently returned from a tropical vacation, where she may have been exposed to mosquito bites. She has no significant medical history or known allergies.\",', '  ', '  \"Body Vitals\": \"The patient\\'s weight is 65 kg. Her blood pressure is within normal range with a systolic pressure of 120 mmHg and a diastolic pressure of 80 mmHg. She has a slightly elevated heart rate of 90 beats per minute. The patient\\'s body temperature is 38.5 degrees Celsius. Blood tests revealed a decreased platelet count and an increased hematocrit level, indicating a possible dengue infection.\",', '  ', '  \"Description\": \"Upon physical examination, the patient appears fatigued and weak. She has a petechial rash on her arms and legs, which is characteristic of dengue fever. The patient complains of severe joint and muscle pain, particularly in her knees and elbows. She also experiences nausea, vomiting, and loss of appetite. The doctor suspects a dengue infection based on the patient\\'s symptoms and travel history, and further tests will be conducted to confirm the diagnosis.\"', '}']\n",
        "\n",
        "\n",
        "['{', '  \"History\": \"The patient with Dengue Fever presented with a history of sudden onset high-grade fever, severe headache, joint and muscle pain, and rash. The fever typically lasts for 5-7 days and is accompanied by other symptoms such as nausea, vomiting, and abdominal pain. The patient also reported a history of mosquito bite exposure in an endemic area.\",', '  \"Body Vitals\": \"The patient\\'s body vitals showed an elevated body temperature of 38.5°C (101.3°F), increased heart rate of 100 beats per minute, and a slightly lowered blood pressure of 110/70 mmHg. Laboratory analysis revealed a reduced platelet count of 100,000 cells/mm³ and an increased hematocrit level of 45%. The patient\\'s weight was recorded as 55 kg.\",', '  \"Description of Patient\": \"The patient is a 28-year-old female who has recently returned from a tropical vacation. She describes her headache as severe and throbbing, and her joint and muscle pain as debilitating. The rash appeared as small red spots on her arms and legs. The patient is experiencing fatigue and overall weakness. She has been advised to take plenty of fluids and rest, and to monitor her body temperature regularly.\"', '}']\n",
        "\n",
        "\n",
        "['{', '  \"History\": \"The patient\\'s history indicates that they recently visited a tropical region where dengue fever is prevalent. They may have been exposed to the dengue virus through mosquito bites. It is important to note that dengue fever is not a contagious disease and cannot be spread from person to person.\",', '  \"Body vitals\": \"The patient\\'s body vitals include a body temperature of 102°F, elevated heart rate of 110 beats per minute, and a drop in blood pressure to 90/60 mmHg. These changes in body vitals are common in cases of dengue fever. The patient may also experience symptoms such as severe headache, joint and muscle pain, fatigue, and a rash.\",', '  \"Description of Patient\": \"The patient is a 35-year-old male who presented with high fever, body aches, and a rash. They have a history of travel to a dengue-endemic area in the past week. Upon physical examination, the patient appears pale and fatigued. They complain of severe headache, particularly behind the eyes, and have reported joint and muscle pain. The presence of a rash is observed on the patient\\'s arms and legs. Laboratory tests confirmed the diagnosis of dengue fever']\n",
        "\n",
        "\n",
        "['{', '  \"Disease\": \"Dengue Fever\",', '  \"Patient History\": \"The patient, a 32-year-old male, presented with a sudden onset of high fever, severe headache, and body aches. He reported having traveled to a tropical region two weeks ago. The fever was accompanied by intense joint pain, especially in the wrists and ankles. The patient also experienced fatigue and mild nausea. He reported no known allergies or prior history of dengue fever.\",', '  \"Body Vitals\": \"Upon examination, the patient\\'s temperature was recorded as 39.2°C (102.5°F). His blood pressure was slightly low at 100/70 mmHg. The patient appeared pale and dehydrated. Laboratory tests revealed a decreased platelet count of 90,000 cells/µL (normal range: 150,000-450,000 cells/µL) and a hematocrit level of 42% (normal range: 38-54%). The patient\\'s white blood cell count was within the normal range. Additionally, the patient\\'s liver enzymes were elevated, indicating liver involvement.\",', '  \"Description\": \"Dengue fever is a mosquito-borne viral infection that commonly occurs in tropical and subtropical regionns.']\n",
        "\n",
        "\n",
        "['{', '  \"Disease\": \"Dengue Fever\",', '  ', '  \"History\": \"The patient, a 42-year-old male, presented with symptoms of dengue fever, including high-grade fever, severe headache, joint and muscle pain, and a rash on the body. The patient mentioned that he had recently traveled to a tropical region where dengue fever is prevalent. He reported feeling fatigued and experiencing mild nausea. There was no history of dengue fever in the family.\",', '', '  \"Body Vitals\": \"During examination, the patient\\'s weight was measured at 75 kg. His blood pressure was 120/80 mmHg. The patient had a pulse rate of 85 beats per minute and a temperature of 39.2°C. The doctor observed that the patient had petechiae on the lower limbs, which are small red or purple spots caused by bleeding under the skin. The platelet count was found to be significantly low, indicating thrombocytopenia, a common feature of dengue fever. The patient\\'s liver enzymes were elevated and he had a mild drop in white blood cell count.\",', '', '  \"Description\": \"The patient exhibited classic symptoms and physical findings consistent with dengue fever. Dengue']\n",
        "\n",
        "\n",
        "['{', '  \"History\": \"The patient, a 32-year-old male, presents with a history of experiencing high fever, severe headache, joint and muscle pain, and rash. He reported that these symptoms started approximately five days ago after being bitten by a mosquito. The patient also mentioned feeling fatigued and having a loss of appetite. He visited a healthcare facility where blood tests confirmed a diagnosis of Dengue Fever.\",', '  \"Body Vitals\": {', '    \"Weight\": \"The patient\\'s weight is recorded at 75 kilograms.\",', '    \"Blood Pressure\": \"The patient\\'s blood pressure is within a normal range, with a reading of 120/80 mmHg.\",', '    \"Temperature\": \"The patient\\'s body temperature is elevated, measuring at 39 degrees Celsius.\"', '  },', '  \"Description\": \"The patient presents with classic symptoms of Dengue Fever, which is a mosquito-borne viral infection. Dengue Fever is characterized by high fever, severe headache, joint and muscle pain, and rash. It is commonly transmitted by the Aedes mosquito. The patient is experiencing fatigue and loss of appetite, which are typical manifestations of this disease. Timely diagnosis and appropriate management are crucial for the patient\\'s recovery.\"', '}']\n"
      ],
      "metadata": {
        "id": "b4wMb_43DnZm"
      }
    },
    {
      "cell_type": "code",
      "source": [
        "history = []\n",
        "body_vitals = []\n",
        "description = []\n",
        "\n",
        "for i in range(16):\n",
        "  hist = input(\"Enter History\")\n",
        "  history.append(hist)\n",
        "  body = input(\"Enter body vitals\")\n",
        "  body_vitals.append(body)\n",
        "  desc = input(\"Enter Desc\")\n",
        "  description.append(desc)"
      ],
      "metadata": {
        "colab": {
          "base_uri": "https://localhost:8080/"
        },
        "id": "dTy2-aRB9GEQ",
        "outputId": "49a3eef5-bf6c-4721-82e6-23034514b81a"
      },
      "execution_count": null,
      "outputs": [
        {
          "name": "stdout",
          "output_type": "stream",
          "text": [
            "Enter HistoryThe patient has a history of recent travel to a tropical or subtropical region where dengue fever is endemic. They may have been exposed to the dengue virus through mosquito bites during their travel. Dengue fever is a viral infection transmitted by the Aedes mosquito.\n",
            "Enter body vitalsThe patient's body temperature may rise to around 104°F (40°C) during the initial phase of dengue fever. Additionally, they may experience intense headache, joint and muscle pain, rash, and pain behind the eyes. As the fever progresses, their blood platelet count may decrease, leading to an increased risk of bleeding.\n",
            "Enter DescThe patient is presenting symptoms of dengue fever, such as high fever, severe headache, and body pain. They may have a rash on their body and complain of pain behind the eyes. The patient's blood platelet count is being monitored regularly to assess their condition and ensure early detection of any complications. Adequate hydration and rest are being provided to support the patient's recovery.\n",
            "Enter HistoryThe patient, a 35-year-old male, visited the clinic with complaints of high fever, severe headache, and body aches. He mentioned that the symptoms started around a week ago. The patient has a history of travelling to an area known for dengue fever outbreaks. He reported experiencing episodes of nausea and vomiting, along with a loss of appetite. There was no history of any major illness in the past.\n",
            "Enter body vitalsUpon examination, the patient's body temperature was found to be 102°F. His blood pressure was measured at 120/80 mmHg. The patient's weight was recorded as 70 kilograms. Other body vital observations included a rapid heartbeat and a slightly lowered platelet count.\n",
            "Enter DescThe patient appears weak and fatigued. He has pale skin and complains of dizziness when standing up. His spleen and liver are not enlarged. The patient's blood test confirmed the presence of dengue fever antibodies. He has been advised to take plenty of fluids, rest, and monitor his platelet count regularly to ensure early detection of any complications.\n",
            "Enter HistoryThe patient with Dengue Fever presented with a history of sudden onset high-grade fever, severe headache, joint and muscle pain, and rash. The fever typically lasts for 5-7 days and is accompanied by other symptoms such as nausea, vomiting, and abdominal pain. The patient also reported a history of mosquito bite exposure in an endemic area.\n",
            "Enter body vitalsThe patient's body vitals showed an elevated body temperature of 38.5°C (101.3°F), increased heart rate of 100 beats per minute, and a slightly lowered blood pressure of 110/70 mmHg. Laboratory analysis revealed a reduced platelet count of 100,000 cells/mm³ and an increased hematocrit level of 45%. The patient's weight was recorded as 55 kg.\n",
            "Enter DescThe patient is a 28-year-old female who has recently returned from a tropical vacation. She describes her headache as severe and throbbing, and her joint and muscle pain as debilitating. The rash appeared as small red spots on her arms and legs. The patient is experiencing fatigue and overall weakness. She has been advised to take plenty of fluids and rest, and to monitor her body temperature regularly.\n",
            "Enter HistoryThe patient is a 38-year-old female who presented with symptoms of dengue fever. She reported experiencing sudden onset of high fever, severe headache, joint and muscle pain, and rash. The patient recently returned from a tropical vacation, where she may have been exposed to mosquito bites. She has no significant medical history or known allergies.\n",
            "Enter body vitalsThe patient's weight is 65 kg. Her blood pressure is within normal range with a systolic pressure of 120 mmHg and a diastolic pressure of 80 mmHg. She has a slightly elevated heart rate of 90 beats per minute. The patient's body temperature is 38.5 degrees Celsius. Blood tests revealed a decreased platelet count and an increased hematocrit level, indicating a possible dengue infection.\n",
            "Enter DescUpon physical examination, the patient appears fatigued and weak. She has a petechial rash on her arms and legs, which is characteristic of dengue fever. The patient complains of severe joint and muscle pain, particularly in her knees and elbows. She also experiences nausea, vomiting, and loss of appetite. The doctor suspects a dengue infection based on the patient's symptoms and travel history, and further tests will be conducted to confirm the diagnosis.\n",
            "Enter HistoryPatient has a history of recent travel to a tropical region where dengue fever is prevalent. The patient may have been exposed to the dengue virus through mosquito bites during their travels. It is important to note that dengue fever is not contagious and cannot be spread from person to person\n",
            "Enter body vitalsWeight: 70 kg\\nBody temperature: 38.5°C\\nBlood pressure: 120/80 mmHg\\nHeart rate: 90 bpm\\nRespiratory rate: 16 breaths per minute\\nBlood sugar level: 110 mg/dL\n",
            "Enter DescThe patient is a 35-year-old male who presented with symptoms such as high fever, severe headache, joint and muscle pain, rash, and fatigue. These symptoms are characteristic of dengue fever. The patient reports feeling weak and experiencing an overall sense of malaise. They have no known underlying medical conditions and have not taken any specific medications prior to the onset of symptoms\n",
            "Enter HistoryThe patient's history indicates that they recently visited a tropical region where dengue fever is prevalent. They may have been exposed to the dengue virus through mosquito bites. It is important to note that dengue fever is not a contagious disease and cannot be spread from person to person\n",
            "Enter body vitalsThe patient's body vitals include a body temperature of 102°F, elevated heart rate of 110 beats per minute, and a drop in blood pressure to 90/60 mmHg. These changes in body vitals are common in cases of dengue fever. The patient may also experience symptoms such as severe headache, joint and muscle pain, fatigue, and a rash.\n",
            "Enter DescThe patient is a 35-year-old male who presented with high fever, body aches, and a rash. They have a history of travel to a dengue-endemic area in the past week. Upon physical examination, the patient appears pale and fatigued. They complain of severe headache, particularly behind the eyes, and have reported joint and muscle pain. The presence of a rash is observed on the patient's arms and legs. Laboratory tests confirmed the diagnosis of dengue fever.\n",
            "Enter HistoryThe patient, a 32-year-old male, presented with a sudden onset of high fever, severe headache, and body aches. He reported having traveled to a tropical region two weeks ago. The fever was accompanied by intense joint pain, especially in the wrists and ankles. The patient also experienced fatigue and mild nausea. He reported no known allergies or prior history of dengue fever.\n",
            "Enter body vitalsUpon examination, the patient's temperature was recorded as 39.2°C (102.5°F). His blood pressure was slightly low at 100/70 mmHg. The patient appeared pale and dehydrated. Laboratory tests revealed a decreased platelet count of 90,000 cells/µL (normal range: 150,000-450,000 cells/µL) and a hematocrit level of 42% (normal range: 38-54%). The patient's white blood cell count was within the normal range. Additionally, the patient's liver enzymes were elevated, indicating liver involvement.\n",
            "Enter DescDengue fever is a mosquito-borne viral infection that commonly occurs in tropical and subtropical regionns.'\n",
            "Enter HistoryThe patient, a 42-year-old male, presented with symptoms of dengue fever, including high-grade fever, severe headache, joint and muscle pain, and a rash on the body. The patient mentioned that he had recently traveled to a tropical region where dengue fever is prevalent. He reported feeling fatigued and experiencing mild nausea. There was no history of dengue fever in the family\n",
            "Enter body vitals\"During examination, the patient's weight was measured at 75 kg. His blood pressure was 120/80 mmHg. The patient had a pulse rate of 85 beats per minute and a temperature of 39.2°C. The doctor observed that the patient had petechiae on the lower limbs, which are small red or purple spots caused by bleeding under the skin. The platelet count was found to be significantly low, indicating thrombocytopenia, a common feature of dengue fever. The patient's liver enzymes were elevated and he had a mild drop in white blood cell count.\n",
            "Enter DescThe patient exhibited classic symptoms and physical findings consistent with dengue fever. Dengue.\n",
            "Enter HistoryThe patient, a 32-year-old male, presents with a history of experiencing high fever, severe headache, joint and muscle pain, and rash. He reported that these symptoms started approximately five days ago after being bitten by a mosquito. The patient also mentioned feeling fatigued and having a loss of appetite. He visited a healthcare facility where blood tests confirmed a diagnosis of Dengue Fever.\n",
            "Enter body vitalsThe patient's weight is recorded at 75 kilogram. The patient's blood pressure is within a normal range, with a reading of 120/80 mmHg.. The patient's body temperature is elevated, measuring at 39 degrees Celsius.\n",
            "Enter DescThe patient presents with classic symptoms of Dengue Fever, which is a mosquito-borne viral infection. Dengue Fever is characterized by high fever, severe headache, joint and muscle pain, and rash. It is commonly transmitted by the Aedes mosquito. The patient is experiencing fatigue and loss of appetite, which are typical manifestations of this disease. Timely diagnosis and appropriate management are crucial for the patient's recovery.\n",
            "Enter HistoryThe patient, a 32-year-old male, has a history of travel to a dengue-endemic region. He visited a tropical country two weeks ago and started developing symptoms a few days after returning. He experienced sudden-onset high fever, severe headache, pain behind the eyes, joint and muscle pain, and a distinct rash. The patient sought medical attention and was diagnosed with dengue fever based on clinical symptoms and positive laboratory tests for dengue virus infection. He was advised to rest, stay hydrated, and monitor his symptoms closely.\n",
            "Enter body vitalsDuring the initial assessment, the patient's weight was recorded to be 75 kilograms. His blood pressure was 120/80 mmHg, which was within the normal range. Other vital signs, such as heart rate and respiratory rate, were also within normal limits. However, his body temperature was elevated, reaching 39.5°C. The patient was closely monitored for any signs of worsening fever or other complications.\n",
            "Enter DescThe patient appears weak and fatigued, complaining of persistent fever and body aches. He has a notable rash on his torso and extremities, consisting of small red spots.\n",
            "Enter HistoryThe patient, a 30-year-old male, presented with symptoms of dengue fever. He reported a recent history of travel to a dengue-endemic region. Two weeks prior to the onset of symptoms, he visited a tropical country where dengue fever is prevalent. He mentioned being bitten by mosquitoes frequently during his stay. The patient also stated that he had not received any dengue vaccine or taken any preventive measures against mosquito bites. He has no previous history of dengue fever or any other mosquito-borne diseases.\n",
            "Enter body vitalsThe patient's weight upon admission was recorded as 75 kg. His blood pressure was measured to be 130/85 mmHg. Other body vital data includes a body temperature of 38.5°C, a pulse rate of 90 beats per minute, and a respiratory rate of 18 breaths per minute. Laboratory results showed a decrease in platelet count to 120,000 cells/mm³ and an increase in hematocrit level to 45%.\n",
            "Enter DescThe patient presented with typical symptoms of dengue fever, including high-grade fever, severe headache, retro-orbital pain, joint and muscle pains. It  is  examine by doctor.\n",
            "Enter HistoryThe patient, a 45-year-old male, presented with a history of high fever for the past three days. Initially, he experienced sudden onset of severe headache, joint pain, and muscle pain. He also complained of fatigue and lack of appetite. The patient had no previous history of dengue fever or any other mosquito-borne diseases. He reported no recent travel history to dengue-endemic regions\n",
            "Enter body vitalsUpon admission, the patient's body vitals were assessed. He had a temperature of 39.5°C (103.1°F), which was accompanied by sweating and chills. His blood pressure was 120/80 mmHg, heart rate was 100 beats per minute, and respiratory rate was normal. The patient weighed 70 kg. Laboratory tests revealed a decreased platelet count of 80,000 cells per microliter, indicating thrombocytopenia, a common finding in dengue fever.\n",
            "Enter DescThe patient appeared lethargic and was in mild distress due to severe headache and muscle pain. He had no visible rash or bleeding manifestations at the time of presentation. On physical examination, there was tenderness in the joints.\n",
            "Enter HistoryThe patient, a 25-year-old female, presented with a history of fever, headache, and joint/muscle pain for the past week. She mentioned that she had recently returned from a tropical region where cases of dengue fever were reported. The patient reported feeling fatigued and experienced some mild dizziness. There was no significant past medical history of note.\n",
            "Enter body vitalsThe patient's weight was recorded as 55 kg..,The patient's blood pressure was measured at 120/80 mmHg. . The patient's pulse rate was noted to be 80 beats per minute. The patient's body temperature was found to be 38.5°C, indicating a fever.\n",
            "Enter DescOn physical examination, the patient appeared pale and fatigued. She had mild tenderness in the joints and muscle groups, especially in the lower back and legs. No rashes were noted on the skin. Laboratory tests revealed a low platelet count and elevated liver enzymes, which are characteristic findings in dengue fever. The patient was diagnosed with dengue fever and provided\n",
            "Enter HistoryThe patient's weight was recorded as 55 kg,'The patient's blood pressure was measured at 120/80 mmHg . The patient's pulse rate was noted to be 80 beats per minute\n",
            "Enter body vitalsOn physical examination, the patient appeared pale and fatigued. She had mild tenderness in the joints and muscle groups, especially in the lower back and legs. No rashes were noted on the skin. Laboratory tests revealed a low platelet count and elevated liver enzymes, which are characteristic findings in dengue fever. The patient was diagnosed with dengue fever and provided\n",
            "Enter DescOn physical examination, the patient appeared pale and fatigued. She had mild tenderness in the joints and muscle groups, especially in the lower back and legs. No rashes were noted on the skin. Laboratory tests revealed a low platelet count and elevated liver enzymes, which are characteristic findings in dengue fever. The patient was diagnosed with dengue fever .\n",
            "Enter HistoryThe patient, a 35-year-old female, was admitted to the hospital with symptoms of dengue fever. She reported a sudden onset of high fever, severe headache, and joint and muscle pain. The patient mentioned that she had recently traveled to a tropical region where dengue is prevalent. She also complained of fatigue, loss of appetite, and nausea. The patient had no previous history of dengue fever.\n",
            "Enter body vitalsUpon examination, the patient\\'s temperature was recorded as 39.5°C (103.1°F), indicating a high-grade fever. Her blood pressure was slightly low, with a reading of 100/60 mmHg. The patient\\'s heart rate was elevated at 100 beats per minute, and her respiratory rate was within the normal range at 16 breaths per minute. The doctor noticed petechial rashes on the patient\\'s legs, which are characteristic of dengue fever.\n",
            "Enter DescThe patient exhibited classical symptoms of dengue fever, including high fever, severe headache, joint and muscle pain, fatigue, and loss of appetite. Dengue fever is a viral infection transmitted by the Aedes mosquito. The incubation period for dengue feve\n",
            "Enter HistoryThe patient, a 28-year-old female, has a history of dengue fever. She contracted the disease during a recent trip to a tropical region known for dengue outbreaks. She experienced symptoms such as high fever, severe headache, joint and muscle pain, rash, and fatigue. The dengue virus is transmitted by Aedes mosquitoes, which are common in tropical and subtropical areas. The patient was diagnosed with dengue fever based on her symptoms and a positive test for dengue antigen. She received medical treatment and recovered from the acute phase of the illness. However, she was advised to take precautionary measures to prevent future dengue infections, such as using insect repellents and eliminating mosquito breeding sites around her living area.\n",
            "Enter body vitalsDuring the acute phase of dengue fever, the patient experienced fluctuating body temperatures, with a high fever ranging from 101°F to 104°F. Her blood pressure also showed some variations, but remained within the normal range. The patient's weight remained stable throughout the illness, with no significant changes observed. Other body vital parameters, such as heart rate and respiratory rate, were within normal limits. The patient was monitored closely to ensure proper hydration .\n",
            "Enter DescOn physical examination, the patient appeared pale and fatigued. She had mild tenderness in the joints and muscle groups, especially in the lower back and legs. No rashes were noted on the skin. Laboratory tests revealed a low platelet count and elevated liver enzymes, which are characteristic findings in dengue fever\n"
          ]
        }
      ]
    },
    {
      "cell_type": "markdown",
      "source": [
        "\n",
        "\n",
        "\n",
        "\n",
        "['{', '  \"History\": \"The patient, a 32-year-old male, has a history of travel to a dengue-endemic region. He visited a tropical country two weeks ago and started developing symptoms a few days after returning. He experienced sudden-onset high fever, severe headache, pain behind the eyes, joint and muscle pain, and a distinct rash. The patient sought medical attention and was diagnosed with dengue fever based on clinical symptoms and positive laboratory tests for dengue virus infection. He was advised to rest, stay hydrated, and monitor his symptoms closely.\",', '', '  \"Body Vitals\": \"During the initial assessment, the patient\\'s weight was recorded to be 75 kilograms. His blood pressure was 120/80 mmHg, which was within the normal range. Other vital signs, such as heart rate and respiratory rate, were also within normal limits. However, his body temperature was elevated, reaching 39.5°C. The patient was closely monitored for any signs of worsening fever or other complications.\",', '', '  \"Description of Patient\": \"The patient appears weak and fatigued, complaining of persistent fever and body aches. He has a notable rash on his torso and extremities, consisting of small red spots. The patient reports']\n",
        "\n",
        "\n",
        "['{', '  \"History\": \"The patient, a 30-year-old male, presented with symptoms of dengue fever. He reported a recent history of travel to a dengue-endemic region. Two weeks prior to the onset of symptoms, he visited a tropical country where dengue fever is prevalent. He mentioned being bitten by mosquitoes frequently during his stay. The patient also stated that he had not received any dengue vaccine or taken any preventive measures against mosquito bites. He has no previous history of dengue fever or any other mosquito-borne diseases.\",', '', '  \"Body vitals\": \"The patient\\'s weight upon admission was recorded as 75 kg. His blood pressure was measured to be 130/85 mmHg. Other body vital data includes a body temperature of 38.5°C, a pulse rate of 90 beats per minute, and a respiratory rate of 18 breaths per minute. Laboratory results showed a decrease in platelet count to 120,000 cells/mm³ and an increase in hematocrit level to 45%.\",', '', '  \"Description of Patient\": \"The patient presented with typical symptoms of dengue fever, including high-grade fever, severe headache, retro-orbital pain, joint and muscle a']\n",
        "\n",
        "\n",
        "['{', '  \"History\": \"The patient, a 45-year-old male, presented with a history of high fever for the past three days. Initially, he experienced sudden onset of severe headache, joint pain, and muscle pain. He also complained of fatigue and lack of appetite. The patient had no previous history of dengue fever or any other mosquito-borne diseases. He reported no recent travel history to dengue-endemic regions.\",', '  ', '  \"Body Vitals\": \"Upon admission, the patient\\'s body vitals were assessed. He had a temperature of 39.5°C (103.1°F), which was accompanied by sweating and chills. His blood pressure was 120/80 mmHg, heart rate was 100 beats per minute, and respiratory rate was normal. The patient weighed 70 kg. Laboratory tests revealed a decreased platelet count of 80,000 cells per microliter, indicating thrombocytopenia, a common finding in dengue fever.\",', '  ', '  \"Description of Patient\": \"The patient appeared lethargic and was in mild distress due to severe headache and muscle pain. He had no visible rash or bleeding manifestations at the time of presentation. On physical examination, there was tenderness in the joints']\n",
        "\n",
        "{', '  \"History\": \"The patient, a 25-year-old female, presented with a history of fever, headache, and joint/muscle pain for the past week. She mentioned that she had recently returned from a tropical region where cases of dengue fever were reported. The patient reported feeling fatigued and experienced some mild dizziness. There was no significant past medical history of note.\",', '  \"Body Vitals\": {', '    \"Weight\": \"The patient\\'s weight was recorded as 55 kg.\",', '    \"Blood Pressure\": \"The patient\\'s blood pressure was measured at 120/80 mmHg.\",', '    \"Pulse Rate\": \"The patient\\'s pulse rate was noted to be 80 beats per minute.\",', '    \"Body Temperature\": \"The patient\\'s body temperature was found to be 38.5°C, indicating a fever.\"', '  },', '  \"Description\": \"On physical examination, the patient appeared pale and fatigued. She had mild tenderness in the joints and muscle groups, especially in the lower back and legs. No rashes were noted on the skin. Laboratory tests revealed a low platelet count and elevated liver enzymes, which are characteristic findings in dengue fever. The patient was diagnosed with dengue fever and provided']\n",
        "\n",
        "\n",
        "['{', '  \"History\": \"The patient, a 35-year-old female, was admitted to the hospital with symptoms of dengue fever. She reported a sudden onset of high fever, severe headache, and joint and muscle pain. The patient mentioned that she had recently traveled to a tropical region where dengue is prevalent. She also complained of fatigue, loss of appetite, and nausea. The patient had no previous history of dengue fever.\",', '  \"Body Vitals\": \"Upon examination, the patient\\'s temperature was recorded as 39.5°C (103.1°F), indicating a high-grade fever. Her blood pressure was slightly low, with a reading of 100/60 mmHg. The patient\\'s heart rate was elevated at 100 beats per minute, and her respiratory rate was within the normal range at 16 breaths per minute. The doctor noticed petechial rashes on the patient\\'s legs, which are characteristic of dengue fever.\",', '  \"Description\": \"The patient exhibited classical symptoms of dengue fever, including high fever, severe headache, joint and muscle pain, fatigue, and loss of appetite. Dengue fever is a viral infection transmitted by the Aedes mosquito. The incubation period for dengue fever']\n",
        "\n",
        "\n",
        "['{', '  \"History\": \"The patient, a 28-year-old female, has a history of dengue fever. She contracted the disease during a recent trip to a tropical region known for dengue outbreaks. She experienced symptoms such as high fever, severe headache, joint and muscle pain, rash, and fatigue. The dengue virus is transmitted by Aedes mosquitoes, which are common in tropical and subtropical areas. The patient was diagnosed with dengue fever based on her symptoms and a positive test for dengue antigen. She received medical treatment and recovered from the acute phase of the illness. However, she was advised to take precautionary measures to prevent future dengue infections, such as using insect repellents and eliminating mosquito breeding sites around her living area.\"', '', '  \"Body Vitals\": \"During the acute phase of dengue fever, the patient experienced fluctuating body temperatures, with a high fever ranging from 101°F to 104°F. Her blood pressure also showed some variations, but remained within the normal range. The patient\\'s weight remained stable throughout the illness, with no significant changes observed. Other body vital parameters, such as heart rate and respiratory rate, were within normal limits. The patient was monitored closely to ensure proper hydration and']\n",
        "\n",
        " '  \"History\": \"The patient, a 35-year-old female, has a history of traveling to a dengue endemic area in the past week. She started experiencing symptoms such as high fever, severe headache, muscle and joint pain, nausea, vomiting, and rash. The patient sought medical attention promptly, and laboratory tests confirmed the diagnosis of dengue fever.\",', '', '  \"Body Vitals\": \"Over the course of the illness, the patient\\'s weight remained stable at 65 kilograms. Her body temperature fluctuated between 38.5 to 40 degrees Celsius, indicating a persistent high-grade fever. The patient\\'s blood pressure was slightly lower than usual, with readings around 100/70 mmHg. Additionally, there was evidence of thrombocytopenia, with a platelet count dropping below 100,000 cells/mm³.\",', '', '  \"Description\": \"The patient appears pale and fatigued, with sunken eyes and dry lips. She complains of generalized body aches and fatigue, which worsen with movement. The rash, known as the \\'dengue rash,\\' is present on the extremities and trunk, consisting of small red spots (petechiae) and maculopapular lesions. The patient reports feeling nauseous and has had episodes of vomiting. She also experiences a severe, throbbing headache, especially behind the eyes. Overall, the patient\\'s condition is consistent with dengue fever, and appropriate measures are being taken for symptom management and fluid balance.\"', '}']\n",
        "\n",
        "\n"
      ],
      "metadata": {
        "id": "lLEvK1lg-XGd"
      }
    },
    {
      "cell_type": "code",
      "source": [
        "dengue_df = {}\n",
        "dengue_df['Description'] = description\n",
        "dengue_df['History'] = history\n",
        "dengue_df['Body_Vitals'] = body_vitals\n"
      ],
      "metadata": {
        "id": "1eBJLwVYJBrc"
      },
      "execution_count": null,
      "outputs": []
    },
    {
      "cell_type": "code",
      "source": [
        "dengue_df = pd.DataFrame(dengue_df)"
      ],
      "metadata": {
        "id": "jk_szDmyJscG"
      },
      "execution_count": null,
      "outputs": []
    },
    {
      "cell_type": "code",
      "source": [
        "dengue_df.head()"
      ],
      "metadata": {
        "colab": {
          "base_uri": "https://localhost:8080/",
          "height": 206
        },
        "id": "qUi-4uOc8_wm",
        "outputId": "16a45bb6-736a-4487-ecbc-693382c91fcb"
      },
      "execution_count": null,
      "outputs": [
        {
          "output_type": "execute_result",
          "data": {
            "text/plain": [
              "                                         Description  \\\n",
              "0  The patient is presenting symptoms of dengue f...   \n",
              "1  The patient appears weak and fatigued. He has ...   \n",
              "2  The patient is a 28-year-old female who has re...   \n",
              "3  Upon physical examination, the patient appears...   \n",
              "4  The patient is a 35-year-old male who presente...   \n",
              "\n",
              "                                             History  \\\n",
              "0  The patient has a history of recent travel to ...   \n",
              "1  The patient, a 35-year-old male, visited the c...   \n",
              "2  The patient with Dengue Fever presented with a...   \n",
              "3  The patient is a 38-year-old female who presen...   \n",
              "4  Patient has a history of recent travel to a tr...   \n",
              "\n",
              "                                         Body_Vitals  \n",
              "0  The patient's body temperature may rise to aro...  \n",
              "1  Upon examination, the patient's body temperatu...  \n",
              "2  The patient's body vitals showed an elevated b...  \n",
              "3  The patient's weight is 65 kg. Her blood press...  \n",
              "4  Weight: 70 kg\\nBody temperature: 38.5°C\\nBlood...  "
            ],
            "text/html": [
              "\n",
              "  <div id=\"df-9f55cabe-52ad-491b-a3bb-46baa0cd9e7e\" class=\"colab-df-container\">\n",
              "    <div>\n",
              "<style scoped>\n",
              "    .dataframe tbody tr th:only-of-type {\n",
              "        vertical-align: middle;\n",
              "    }\n",
              "\n",
              "    .dataframe tbody tr th {\n",
              "        vertical-align: top;\n",
              "    }\n",
              "\n",
              "    .dataframe thead th {\n",
              "        text-align: right;\n",
              "    }\n",
              "</style>\n",
              "<table border=\"1\" class=\"dataframe\">\n",
              "  <thead>\n",
              "    <tr style=\"text-align: right;\">\n",
              "      <th></th>\n",
              "      <th>Description</th>\n",
              "      <th>History</th>\n",
              "      <th>Body_Vitals</th>\n",
              "    </tr>\n",
              "  </thead>\n",
              "  <tbody>\n",
              "    <tr>\n",
              "      <th>0</th>\n",
              "      <td>The patient is presenting symptoms of dengue f...</td>\n",
              "      <td>The patient has a history of recent travel to ...</td>\n",
              "      <td>The patient's body temperature may rise to aro...</td>\n",
              "    </tr>\n",
              "    <tr>\n",
              "      <th>1</th>\n",
              "      <td>The patient appears weak and fatigued. He has ...</td>\n",
              "      <td>The patient, a 35-year-old male, visited the c...</td>\n",
              "      <td>Upon examination, the patient's body temperatu...</td>\n",
              "    </tr>\n",
              "    <tr>\n",
              "      <th>2</th>\n",
              "      <td>The patient is a 28-year-old female who has re...</td>\n",
              "      <td>The patient with Dengue Fever presented with a...</td>\n",
              "      <td>The patient's body vitals showed an elevated b...</td>\n",
              "    </tr>\n",
              "    <tr>\n",
              "      <th>3</th>\n",
              "      <td>Upon physical examination, the patient appears...</td>\n",
              "      <td>The patient is a 38-year-old female who presen...</td>\n",
              "      <td>The patient's weight is 65 kg. Her blood press...</td>\n",
              "    </tr>\n",
              "    <tr>\n",
              "      <th>4</th>\n",
              "      <td>The patient is a 35-year-old male who presente...</td>\n",
              "      <td>Patient has a history of recent travel to a tr...</td>\n",
              "      <td>Weight: 70 kg\\nBody temperature: 38.5°C\\nBlood...</td>\n",
              "    </tr>\n",
              "  </tbody>\n",
              "</table>\n",
              "</div>\n",
              "    <div class=\"colab-df-buttons\">\n",
              "\n",
              "  <div class=\"colab-df-container\">\n",
              "    <button class=\"colab-df-convert\" onclick=\"convertToInteractive('df-9f55cabe-52ad-491b-a3bb-46baa0cd9e7e')\"\n",
              "            title=\"Convert this dataframe to an interactive table.\"\n",
              "            style=\"display:none;\">\n",
              "\n",
              "  <svg xmlns=\"http://www.w3.org/2000/svg\" height=\"24px\" viewBox=\"0 -960 960 960\">\n",
              "    <path d=\"M120-120v-720h720v720H120Zm60-500h600v-160H180v160Zm220 220h160v-160H400v160Zm0 220h160v-160H400v160ZM180-400h160v-160H180v160Zm440 0h160v-160H620v160ZM180-180h160v-160H180v160Zm440 0h160v-160H620v160Z\"/>\n",
              "  </svg>\n",
              "    </button>\n",
              "\n",
              "  <style>\n",
              "    .colab-df-container {\n",
              "      display:flex;\n",
              "      gap: 12px;\n",
              "    }\n",
              "\n",
              "    .colab-df-convert {\n",
              "      background-color: #E8F0FE;\n",
              "      border: none;\n",
              "      border-radius: 50%;\n",
              "      cursor: pointer;\n",
              "      display: none;\n",
              "      fill: #1967D2;\n",
              "      height: 32px;\n",
              "      padding: 0 0 0 0;\n",
              "      width: 32px;\n",
              "    }\n",
              "\n",
              "    .colab-df-convert:hover {\n",
              "      background-color: #E2EBFA;\n",
              "      box-shadow: 0px 1px 2px rgba(60, 64, 67, 0.3), 0px 1px 3px 1px rgba(60, 64, 67, 0.15);\n",
              "      fill: #174EA6;\n",
              "    }\n",
              "\n",
              "    .colab-df-buttons div {\n",
              "      margin-bottom: 4px;\n",
              "    }\n",
              "\n",
              "    [theme=dark] .colab-df-convert {\n",
              "      background-color: #3B4455;\n",
              "      fill: #D2E3FC;\n",
              "    }\n",
              "\n",
              "    [theme=dark] .colab-df-convert:hover {\n",
              "      background-color: #434B5C;\n",
              "      box-shadow: 0px 1px 3px 1px rgba(0, 0, 0, 0.15);\n",
              "      filter: drop-shadow(0px 1px 2px rgba(0, 0, 0, 0.3));\n",
              "      fill: #FFFFFF;\n",
              "    }\n",
              "  </style>\n",
              "\n",
              "    <script>\n",
              "      const buttonEl =\n",
              "        document.querySelector('#df-9f55cabe-52ad-491b-a3bb-46baa0cd9e7e button.colab-df-convert');\n",
              "      buttonEl.style.display =\n",
              "        google.colab.kernel.accessAllowed ? 'block' : 'none';\n",
              "\n",
              "      async function convertToInteractive(key) {\n",
              "        const element = document.querySelector('#df-9f55cabe-52ad-491b-a3bb-46baa0cd9e7e');\n",
              "        const dataTable =\n",
              "          await google.colab.kernel.invokeFunction('convertToInteractive',\n",
              "                                                    [key], {});\n",
              "        if (!dataTable) return;\n",
              "\n",
              "        const docLinkHtml = 'Like what you see? Visit the ' +\n",
              "          '<a target=\"_blank\" href=https://colab.research.google.com/notebooks/data_table.ipynb>data table notebook</a>'\n",
              "          + ' to learn more about interactive tables.';\n",
              "        element.innerHTML = '';\n",
              "        dataTable['output_type'] = 'display_data';\n",
              "        await google.colab.output.renderOutput(dataTable, element);\n",
              "        const docLink = document.createElement('div');\n",
              "        docLink.innerHTML = docLinkHtml;\n",
              "        element.appendChild(docLink);\n",
              "      }\n",
              "    </script>\n",
              "  </div>\n",
              "\n",
              "\n",
              "<div id=\"df-5ea09dd4-d8e6-4010-b4a1-894af81bb13b\">\n",
              "  <button class=\"colab-df-quickchart\" onclick=\"quickchart('df-5ea09dd4-d8e6-4010-b4a1-894af81bb13b')\"\n",
              "            title=\"Suggest charts\"\n",
              "            style=\"display:none;\">\n",
              "\n",
              "<svg xmlns=\"http://www.w3.org/2000/svg\" height=\"24px\"viewBox=\"0 0 24 24\"\n",
              "     width=\"24px\">\n",
              "    <g>\n",
              "        <path d=\"M19 3H5c-1.1 0-2 .9-2 2v14c0 1.1.9 2 2 2h14c1.1 0 2-.9 2-2V5c0-1.1-.9-2-2-2zM9 17H7v-7h2v7zm4 0h-2V7h2v10zm4 0h-2v-4h2v4z\"/>\n",
              "    </g>\n",
              "</svg>\n",
              "  </button>\n",
              "\n",
              "<style>\n",
              "  .colab-df-quickchart {\n",
              "      --bg-color: #E8F0FE;\n",
              "      --fill-color: #1967D2;\n",
              "      --hover-bg-color: #E2EBFA;\n",
              "      --hover-fill-color: #174EA6;\n",
              "      --disabled-fill-color: #AAA;\n",
              "      --disabled-bg-color: #DDD;\n",
              "  }\n",
              "\n",
              "  [theme=dark] .colab-df-quickchart {\n",
              "      --bg-color: #3B4455;\n",
              "      --fill-color: #D2E3FC;\n",
              "      --hover-bg-color: #434B5C;\n",
              "      --hover-fill-color: #FFFFFF;\n",
              "      --disabled-bg-color: #3B4455;\n",
              "      --disabled-fill-color: #666;\n",
              "  }\n",
              "\n",
              "  .colab-df-quickchart {\n",
              "    background-color: var(--bg-color);\n",
              "    border: none;\n",
              "    border-radius: 50%;\n",
              "    cursor: pointer;\n",
              "    display: none;\n",
              "    fill: var(--fill-color);\n",
              "    height: 32px;\n",
              "    padding: 0;\n",
              "    width: 32px;\n",
              "  }\n",
              "\n",
              "  .colab-df-quickchart:hover {\n",
              "    background-color: var(--hover-bg-color);\n",
              "    box-shadow: 0 1px 2px rgba(60, 64, 67, 0.3), 0 1px 3px 1px rgba(60, 64, 67, 0.15);\n",
              "    fill: var(--button-hover-fill-color);\n",
              "  }\n",
              "\n",
              "  .colab-df-quickchart-complete:disabled,\n",
              "  .colab-df-quickchart-complete:disabled:hover {\n",
              "    background-color: var(--disabled-bg-color);\n",
              "    fill: var(--disabled-fill-color);\n",
              "    box-shadow: none;\n",
              "  }\n",
              "\n",
              "  .colab-df-spinner {\n",
              "    border: 2px solid var(--fill-color);\n",
              "    border-color: transparent;\n",
              "    border-bottom-color: var(--fill-color);\n",
              "    animation:\n",
              "      spin 1s steps(1) infinite;\n",
              "  }\n",
              "\n",
              "  @keyframes spin {\n",
              "    0% {\n",
              "      border-color: transparent;\n",
              "      border-bottom-color: var(--fill-color);\n",
              "      border-left-color: var(--fill-color);\n",
              "    }\n",
              "    20% {\n",
              "      border-color: transparent;\n",
              "      border-left-color: var(--fill-color);\n",
              "      border-top-color: var(--fill-color);\n",
              "    }\n",
              "    30% {\n",
              "      border-color: transparent;\n",
              "      border-left-color: var(--fill-color);\n",
              "      border-top-color: var(--fill-color);\n",
              "      border-right-color: var(--fill-color);\n",
              "    }\n",
              "    40% {\n",
              "      border-color: transparent;\n",
              "      border-right-color: var(--fill-color);\n",
              "      border-top-color: var(--fill-color);\n",
              "    }\n",
              "    60% {\n",
              "      border-color: transparent;\n",
              "      border-right-color: var(--fill-color);\n",
              "    }\n",
              "    80% {\n",
              "      border-color: transparent;\n",
              "      border-right-color: var(--fill-color);\n",
              "      border-bottom-color: var(--fill-color);\n",
              "    }\n",
              "    90% {\n",
              "      border-color: transparent;\n",
              "      border-bottom-color: var(--fill-color);\n",
              "    }\n",
              "  }\n",
              "</style>\n",
              "\n",
              "  <script>\n",
              "    async function quickchart(key) {\n",
              "      const quickchartButtonEl =\n",
              "        document.querySelector('#' + key + ' button');\n",
              "      quickchartButtonEl.disabled = true;  // To prevent multiple clicks.\n",
              "      quickchartButtonEl.classList.add('colab-df-spinner');\n",
              "      try {\n",
              "        const charts = await google.colab.kernel.invokeFunction(\n",
              "            'suggestCharts', [key], {});\n",
              "      } catch (error) {\n",
              "        console.error('Error during call to suggestCharts:', error);\n",
              "      }\n",
              "      quickchartButtonEl.classList.remove('colab-df-spinner');\n",
              "      quickchartButtonEl.classList.add('colab-df-quickchart-complete');\n",
              "    }\n",
              "    (() => {\n",
              "      let quickchartButtonEl =\n",
              "        document.querySelector('#df-5ea09dd4-d8e6-4010-b4a1-894af81bb13b button');\n",
              "      quickchartButtonEl.style.display =\n",
              "        google.colab.kernel.accessAllowed ? 'block' : 'none';\n",
              "    })();\n",
              "  </script>\n",
              "</div>\n",
              "\n",
              "    </div>\n",
              "  </div>\n"
            ]
          },
          "metadata": {},
          "execution_count": 46
        }
      ]
    },
    {
      "cell_type": "markdown",
      "source": [
        "\n",
        "\n",
        "\n",
        "# **Data Cleaning and store in pinecone**"
      ],
      "metadata": {
        "id": "2y2KLuG1aEi0"
      }
    },
    {
      "cell_type": "code",
      "source": [],
      "metadata": {
        "id": "o5_C92Znc35N"
      },
      "execution_count": null,
      "outputs": []
    },
    {
      "cell_type": "code",
      "source": [
        "\n",
        "\n",
        "# Create index\n",
        "# pinecone.create_index(\n",
        "#     name=INDEX_NAME,\n",
        "#     metric='cosine',\n",
        "#     dimension=1536)"
      ],
      "metadata": {
        "colab": {
          "base_uri": "https://localhost:8080/"
        },
        "id": "uU2FJjbrxzYk",
        "outputId": "d57e4f13-dfb4-4583-ead1-beab0ac180fa"
      },
      "execution_count": null,
      "outputs": [
        {
          "output_type": "stream",
          "name": "stderr",
          "text": [
            "/usr/local/lib/python3.10/dist-packages/pinecone/index.py:4: TqdmExperimentalWarning: Using `tqdm.autonotebook.tqdm` in notebook mode. Use `tqdm.tqdm` instead to force console mode (e.g. in jupyter console)\n",
            "  from tqdm.autonotebook import tqdm\n"
          ]
        }
      ]
    },
    {
      "cell_type": "code",
      "source": [
        "\n",
        "demo_index.describe_index_stats()"
      ],
      "metadata": {
        "colab": {
          "base_uri": "https://localhost:8080/"
        },
        "id": "lp84aG-azRG4",
        "outputId": "30c20715-f9d9-48b9-bd81-05a187fa36d8"
      },
      "execution_count": null,
      "outputs": [
        {
          "output_type": "execute_result",
          "data": {
            "text/plain": [
              "{'dimension': 1536,\n",
              " 'index_fullness': 0.0003,\n",
              " 'namespaces': {'dengue': {'vector_count': 30}},\n",
              " 'total_vector_count': 30}"
            ]
          },
          "metadata": {},
          "execution_count": 12
        }
      ]
    },
    {
      "cell_type": "code",
      "source": [
        "# # Initialize our OpenAI model\n"
      ],
      "metadata": {
        "id": "qyoshd1LzgxA"
      },
      "execution_count": null,
      "outputs": []
    },
    {
      "cell_type": "code",
      "source": [
        "# # Tell tiktoken what model we'd like to use for embeddings\n",
        "# tiktoken.encoding_for_model('text-embedding-ada-002')\n",
        "\n",
        "# # Intialize a tiktoken tokenizer (i.e. a tool that identifies individual tokens (words))\n",
        "# tokenizer = tiktoken.get_encoding('cl100k_base')\n",
        "\n",
        "# # Create our custom tiktoken function\n",
        "# def tiktoken_len(text: str) -> int:\n",
        "#     \"\"\"\n",
        "#     Split up a body of text using a custom tokenizer.\n",
        "\n",
        "#     :param text: Text we'd like to tokenize.\n",
        "#     \"\"\"\n",
        "#     tokens = tokenizer.encode(\n",
        "#         text,\n",
        "#         disallowed_special=()\n",
        "#     )\n",
        "#     return len(tokens)"
      ],
      "metadata": {
        "id": "EIjYsIvz0WmI"
      },
      "execution_count": null,
      "outputs": []
    },
    {
      "cell_type": "code",
      "source": [
        "def chunk_by_size(text: str, size: int = 1024):\n",
        "    \"\"\"\n",
        "    Chunk up text recursively.\n",
        "\n",
        "    :param text: Text to be chunked up\n",
        "    :return: List of Document items (i.e. chunks).|\n",
        "    \"\"\"\n",
        "    text_splitter = RecursiveCharacterTextSplitter(\n",
        "    chunk_size = size,\n",
        "    chunk_overlap = 300,\n",
        "    add_start_index = True,\n",
        ")\n",
        "    return text_splitter.create_documents([text])"
      ],
      "metadata": {
        "id": "UMJGOgOH0cy4"
      },
      "execution_count": null,
      "outputs": []
    },
    {
      "cell_type": "code",
      "source": [
        "path = '/content/ent.csv'"
      ],
      "metadata": {
        "id": "qCs0XSSM-GU7"
      },
      "execution_count": null,
      "outputs": []
    },
    {
      "cell_type": "code",
      "source": [
        "def csv_to_list(file_path):\n",
        "  df_path = pd.read_csv(file_path)\n",
        "  data_list = []\n",
        "  for i in range(len(df_path)):\n",
        "    data = f\"History: \\n {df_path['History'][i]}\\n Primary_Daignose: \\n  {df_path['Body_Vitals'][i]}\\n Description \\n {df_path['Description'][i]}\"\n",
        "    data_list.append(data)\n",
        "  return data_list\n",
        "chunk = csv_to_list(path)\n",
        "chunk[1]"
      ],
      "metadata": {
        "id": "3jkr6KXduU6K",
        "colab": {
          "base_uri": "https://localhost:8080/",
          "height": 226
        },
        "outputId": "ae9d5301-2fd8-481a-f7d9-3c40ce3d30da"
      },
      "execution_count": null,
      "outputs": [
        {
          "output_type": "execute_result",
          "data": {
            "text/plain": [
              "\"History: \\n this is a 42-year-old white female who comes in today for a complete physical and follow up on asthma. she says her asthma has been worse over the last three months. she has been using her inhaler daily. her allergies seem to be a little bit worse as well. her husband has been hauling corn and this seems to aggravate things. she has not been taking allegra daily but when she does take it, it seems to help somewhat. she has not been taking her flonase which has helped her in the past.\\n Primary_Daignose: \\n  {'vitals': ' her weight was 151 pounds. blood pressure is 110/60. pulse is 72. temperature is 97.1 degrees. respirations are 20.', 'general': ' this is a well-developed, well-nourished 42-year-old white female, alert and oriented in no acute distress. affect is appropriate and is pleasant.', 'heent': ' normocephalic, atraumatic. tympanic membranes are clear. conjunctivae are clear. pupils are equal, round and reactive to light. nares without turbinate edema. oropharynx is nonerythematous.', 'neck': ' supple without lymphadenopathy, thyromegaly, carotid bruit or jvd.', 'chest': ' clear to auscultation bilaterally.', 'cardiovascular': ' regular rate and rhythm without murmur.', 'abdomen': ' soft, nontender, nondistended. normoactive bowel sounds. no masses or organomegaly to palpation.', 'extremities': ' without cyanosis or edema.', 'skin': ' without abnormalities.'}\\n Description \\n a female for a complete physical and follow up on asthma with allergic rhinitis.\""
            ],
            "application/vnd.google.colaboratory.intrinsic+json": {
              "type": "string"
            }
          },
          "metadata": {},
          "execution_count": 17
        }
      ]
    },
    {
      "cell_type": "code",
      "source": [
        "from tqdm import tqdm\n",
        "from uuid import uuid4\n",
        "def create_chunks_metadata_embeddings(dataset) -> list[dict]:\n",
        "    \"\"\"\n",
        "    Given a dataset, split text data into chunks, extract metadata, create embeddings for each chunk.\n",
        "\n",
        "    :param dataset: Data we want to process.\n",
        "    :return: List of data objects to upsert into our Pinecone index.\n",
        "    \"\"\"\n",
        "    data_objs = []\n",
        "\n",
        "    # For each row in our dataset:\n",
        "    for data in tqdm(dataset):  # (tqdm library prints status of for-loop to console)\n",
        "        # Create chunks\n",
        "        chunked_text = chunk_by_size(data)\n",
        "\n",
        "        # Extract just the string content from the chunk\n",
        "        chunked_text = [c.page_content for c in chunked_text]\n",
        "\n",
        "        # Extract some metadata, create an ID, and generate an embedding for the chunk.\n",
        "        # Wrap that all in a dictionary, and append that dictionary to a list (`data_objs`).\n",
        "        for idx, text in enumerate(chunked_text):\n",
        "            payload = {\n",
        "                \"metadata\": {\n",
        "                    \"diseases\": 'dengue-fever',\n",
        "                    \"text_content\": text  # there are 248 chars in this chunk of text\n",
        "                },\n",
        "             \"id\": str(uuid4()),\n",
        "            \"values\": embed.embed_documents([text])[0] # --> list of len 248, each item of those 248 has a len of 1536\n",
        "            }\n",
        "            data_objs.append(payload)\n",
        "\n",
        "    # Return list of dictionaries, each containing our metadata, ID, and embedding, per chunk.\n",
        "    return data_objs"
      ],
      "metadata": {
        "id": "vvgA5dTDDVRp"
      },
      "execution_count": null,
      "outputs": []
    },
    {
      "cell_type": "code",
      "source": [
        "data = create_chunks_metadata_embeddings(chunk)"
      ],
      "metadata": {
        "colab": {
          "base_uri": "https://localhost:8080/"
        },
        "id": "CWwtk--RESra",
        "outputId": "417e8b89-0ba6-4f27-a562-14cc25f286cf"
      },
      "execution_count": null,
      "outputs": [
        {
          "output_type": "stream",
          "name": "stderr",
          "text": [
            "100%|██████████| 20/20 [00:03<00:00,  5.52it/s]\n"
          ]
        }
      ]
    },
    {
      "cell_type": "code",
      "source": [
        "data[0]"
      ],
      "metadata": {
        "id": "OhwshhPiEcwu"
      },
      "execution_count": null,
      "outputs": []
    },
    {
      "cell_type": "code",
      "source": [
        "BATCH_SIZE = 4\n",
        "\n",
        "def batch_upsert(data: list[dict], index, namespace: str):\n",
        "    \"\"\"\n",
        "    Upsert data objects to a Pinecone index in batches.\n",
        "\n",
        "    :param data: Data objects we want to upsert.\n",
        "    :param index: Index into which we want to upsert our data objects.\n",
        "    :namespace: Namespace within our index into which we want to upsert our data objects.\n",
        "    \"\"\"\n",
        "    for i in range(0, len(data), BATCH_SIZE):\n",
        "        batch = data[i:i+BATCH_SIZE]\n",
        "        # print(batch)\n",
        "        index.upsert(vectors=batch, namespace=namespace)\n"
      ],
      "metadata": {
        "id": "SVjShhpYE0s-"
      },
      "execution_count": null,
      "outputs": []
    },
    {
      "cell_type": "code",
      "source": [
        "batch_upsert(data, demo_index, 'ent')"
      ],
      "metadata": {
        "id": "MIsTZHZSE9qu"
      },
      "execution_count": null,
      "outputs": []
    },
    {
      "cell_type": "code",
      "source": [
        "# embed = chunk"
      ],
      "metadata": {
        "id": "hYm6OoKMzw1m"
      },
      "execution_count": null,
      "outputs": []
    },
    {
      "cell_type": "markdown",
      "source": [
        "# **JSON to CSV**"
      ],
      "metadata": {
        "id": "2Ush8YPV_Ftp"
      }
    },
    {
      "source": [
        "import json\n",
        "vas = pd.read_json(\"/content/pulmonologist.json\").read()\n",
        "# vas = vas.loads()"
      ],
      "cell_type": "code",
      "metadata": {
        "id": "_46GSzwaAPAc"
      },
      "execution_count": null,
      "outputs": []
    },
    {
      "cell_type": "code",
      "source": [
        "# df.head()"
      ],
      "metadata": {
        "id": "jpUXiTZvmrs1"
      },
      "execution_count": null,
      "outputs": []
    },
    {
      "cell_type": "code",
      "source": [
        "# df.info()"
      ],
      "metadata": {
        "id": "NZ4Ip_-Up6zm"
      },
      "execution_count": null,
      "outputs": []
    },
    {
      "cell_type": "code",
      "source": [
        "# u_df = {}\n",
        "# u_df['description'] = df['description']\n",
        "# u_df['medical_history'] = df['medical history']\n",
        "# u_df['primary_diagnose'] = df['primary diagnosis at health care center']"
      ],
      "metadata": {
        "id": "RPFRTp22pxMY"
      },
      "execution_count": null,
      "outputs": []
    },
    {
      "cell_type": "code",
      "source": [],
      "metadata": {
        "id": "nq4eri_mwODe"
      },
      "execution_count": null,
      "outputs": []
    },
    {
      "cell_type": "code",
      "source": [
        "# df_1 = pd.DataFrame(u_df)"
      ],
      "metadata": {
        "id": "f7eKk-KBrID3"
      },
      "execution_count": null,
      "outputs": []
    },
    {
      "cell_type": "code",
      "source": [
        "# df_1.to_csv(\"/content/gdrive/MyDrive/ent.csv\")"
      ],
      "metadata": {
        "id": "K7ri7bRArcVm"
      },
      "execution_count": null,
      "outputs": []
    },
    {
      "cell_type": "code",
      "source": [
        "path = \"/content/dengue_df.csv\"\n",
        "#\"/content/gdrive/MyDrive/ent.csv\""
      ],
      "metadata": {
        "id": "kJ18ps96yxM7"
      },
      "execution_count": null,
      "outputs": []
    },
    {
      "cell_type": "code",
      "source": [
        "df_1 = pd.read_csv(path)"
      ],
      "metadata": {
        "id": "rUZYY4Oir_7s"
      },
      "execution_count": null,
      "outputs": []
    },
    {
      "cell_type": "code",
      "source": [],
      "metadata": {
        "id": "j-6RFhEqywrd"
      },
      "execution_count": null,
      "outputs": []
    },
    {
      "cell_type": "code",
      "source": [
        "df_1.head()"
      ],
      "metadata": {
        "colab": {
          "base_uri": "https://localhost:8080/",
          "height": 310
        },
        "id": "Nio_cEuEt844",
        "outputId": "a7118ace-8bad-49cf-900e-291c7823952c"
      },
      "execution_count": null,
      "outputs": [
        {
          "output_type": "execute_result",
          "data": {
            "text/plain": [
              "   Unnamed: 0                                        Description  \\\n",
              "0           0  The patient is presenting symptoms of dengue f...   \n",
              "1           1  The patient appears weak and fatigued. He has ...   \n",
              "2           2  The patient is a 28-year-old female who has re...   \n",
              "3           3  Upon physical examination, the patient appears...   \n",
              "4           4  The patient is a 35-year-old male who presente...   \n",
              "\n",
              "                                             History  \\\n",
              "0  The patient has a history of recent travel to ...   \n",
              "1  The patient, a 35-year-old male, visited the c...   \n",
              "2  The patient with Dengue Fever presented with a...   \n",
              "3  The patient is a 38-year-old female who presen...   \n",
              "4  Patient has a history of recent travel to a tr...   \n",
              "\n",
              "                                         Body_Vitals  \n",
              "0  The patient's body temperature may rise to aro...  \n",
              "1  Upon examination, the patient's body temperatu...  \n",
              "2  The patient's body vitals showed an elevated b...  \n",
              "3  The patient's weight is 65 kg. Her blood press...  \n",
              "4  Weight: 70 kg\\nBody temperature: 38.5°C\\nBlood...  "
            ],
            "text/html": [
              "\n",
              "  <div id=\"df-067d605c-ee73-49a2-9869-bd47dbb71fad\" class=\"colab-df-container\">\n",
              "    <div>\n",
              "<style scoped>\n",
              "    .dataframe tbody tr th:only-of-type {\n",
              "        vertical-align: middle;\n",
              "    }\n",
              "\n",
              "    .dataframe tbody tr th {\n",
              "        vertical-align: top;\n",
              "    }\n",
              "\n",
              "    .dataframe thead th {\n",
              "        text-align: right;\n",
              "    }\n",
              "</style>\n",
              "<table border=\"1\" class=\"dataframe\">\n",
              "  <thead>\n",
              "    <tr style=\"text-align: right;\">\n",
              "      <th></th>\n",
              "      <th>Unnamed: 0</th>\n",
              "      <th>Description</th>\n",
              "      <th>History</th>\n",
              "      <th>Body_Vitals</th>\n",
              "    </tr>\n",
              "  </thead>\n",
              "  <tbody>\n",
              "    <tr>\n",
              "      <th>0</th>\n",
              "      <td>0</td>\n",
              "      <td>The patient is presenting symptoms of dengue f...</td>\n",
              "      <td>The patient has a history of recent travel to ...</td>\n",
              "      <td>The patient's body temperature may rise to aro...</td>\n",
              "    </tr>\n",
              "    <tr>\n",
              "      <th>1</th>\n",
              "      <td>1</td>\n",
              "      <td>The patient appears weak and fatigued. He has ...</td>\n",
              "      <td>The patient, a 35-year-old male, visited the c...</td>\n",
              "      <td>Upon examination, the patient's body temperatu...</td>\n",
              "    </tr>\n",
              "    <tr>\n",
              "      <th>2</th>\n",
              "      <td>2</td>\n",
              "      <td>The patient is a 28-year-old female who has re...</td>\n",
              "      <td>The patient with Dengue Fever presented with a...</td>\n",
              "      <td>The patient's body vitals showed an elevated b...</td>\n",
              "    </tr>\n",
              "    <tr>\n",
              "      <th>3</th>\n",
              "      <td>3</td>\n",
              "      <td>Upon physical examination, the patient appears...</td>\n",
              "      <td>The patient is a 38-year-old female who presen...</td>\n",
              "      <td>The patient's weight is 65 kg. Her blood press...</td>\n",
              "    </tr>\n",
              "    <tr>\n",
              "      <th>4</th>\n",
              "      <td>4</td>\n",
              "      <td>The patient is a 35-year-old male who presente...</td>\n",
              "      <td>Patient has a history of recent travel to a tr...</td>\n",
              "      <td>Weight: 70 kg\\nBody temperature: 38.5°C\\nBlood...</td>\n",
              "    </tr>\n",
              "  </tbody>\n",
              "</table>\n",
              "</div>\n",
              "    <div class=\"colab-df-buttons\">\n",
              "\n",
              "  <div class=\"colab-df-container\">\n",
              "    <button class=\"colab-df-convert\" onclick=\"convertToInteractive('df-067d605c-ee73-49a2-9869-bd47dbb71fad')\"\n",
              "            title=\"Convert this dataframe to an interactive table.\"\n",
              "            style=\"display:none;\">\n",
              "\n",
              "  <svg xmlns=\"http://www.w3.org/2000/svg\" height=\"24px\" viewBox=\"0 -960 960 960\">\n",
              "    <path d=\"M120-120v-720h720v720H120Zm60-500h600v-160H180v160Zm220 220h160v-160H400v160Zm0 220h160v-160H400v160ZM180-400h160v-160H180v160Zm440 0h160v-160H620v160ZM180-180h160v-160H180v160Zm440 0h160v-160H620v160Z\"/>\n",
              "  </svg>\n",
              "    </button>\n",
              "\n",
              "  <style>\n",
              "    .colab-df-container {\n",
              "      display:flex;\n",
              "      gap: 12px;\n",
              "    }\n",
              "\n",
              "    .colab-df-convert {\n",
              "      background-color: #E8F0FE;\n",
              "      border: none;\n",
              "      border-radius: 50%;\n",
              "      cursor: pointer;\n",
              "      display: none;\n",
              "      fill: #1967D2;\n",
              "      height: 32px;\n",
              "      padding: 0 0 0 0;\n",
              "      width: 32px;\n",
              "    }\n",
              "\n",
              "    .colab-df-convert:hover {\n",
              "      background-color: #E2EBFA;\n",
              "      box-shadow: 0px 1px 2px rgba(60, 64, 67, 0.3), 0px 1px 3px 1px rgba(60, 64, 67, 0.15);\n",
              "      fill: #174EA6;\n",
              "    }\n",
              "\n",
              "    .colab-df-buttons div {\n",
              "      margin-bottom: 4px;\n",
              "    }\n",
              "\n",
              "    [theme=dark] .colab-df-convert {\n",
              "      background-color: #3B4455;\n",
              "      fill: #D2E3FC;\n",
              "    }\n",
              "\n",
              "    [theme=dark] .colab-df-convert:hover {\n",
              "      background-color: #434B5C;\n",
              "      box-shadow: 0px 1px 3px 1px rgba(0, 0, 0, 0.15);\n",
              "      filter: drop-shadow(0px 1px 2px rgba(0, 0, 0, 0.3));\n",
              "      fill: #FFFFFF;\n",
              "    }\n",
              "  </style>\n",
              "\n",
              "    <script>\n",
              "      const buttonEl =\n",
              "        document.querySelector('#df-067d605c-ee73-49a2-9869-bd47dbb71fad button.colab-df-convert');\n",
              "      buttonEl.style.display =\n",
              "        google.colab.kernel.accessAllowed ? 'block' : 'none';\n",
              "\n",
              "      async function convertToInteractive(key) {\n",
              "        const element = document.querySelector('#df-067d605c-ee73-49a2-9869-bd47dbb71fad');\n",
              "        const dataTable =\n",
              "          await google.colab.kernel.invokeFunction('convertToInteractive',\n",
              "                                                    [key], {});\n",
              "        if (!dataTable) return;\n",
              "\n",
              "        const docLinkHtml = 'Like what you see? Visit the ' +\n",
              "          '<a target=\"_blank\" href=https://colab.research.google.com/notebooks/data_table.ipynb>data table notebook</a>'\n",
              "          + ' to learn more about interactive tables.';\n",
              "        element.innerHTML = '';\n",
              "        dataTable['output_type'] = 'display_data';\n",
              "        await google.colab.output.renderOutput(dataTable, element);\n",
              "        const docLink = document.createElement('div');\n",
              "        docLink.innerHTML = docLinkHtml;\n",
              "        element.appendChild(docLink);\n",
              "      }\n",
              "    </script>\n",
              "  </div>\n",
              "\n",
              "\n",
              "<div id=\"df-3605c6e5-93e3-4ffc-a394-96f22c6a2b4b\">\n",
              "  <button class=\"colab-df-quickchart\" onclick=\"quickchart('df-3605c6e5-93e3-4ffc-a394-96f22c6a2b4b')\"\n",
              "            title=\"Suggest charts\"\n",
              "            style=\"display:none;\">\n",
              "\n",
              "<svg xmlns=\"http://www.w3.org/2000/svg\" height=\"24px\"viewBox=\"0 0 24 24\"\n",
              "     width=\"24px\">\n",
              "    <g>\n",
              "        <path d=\"M19 3H5c-1.1 0-2 .9-2 2v14c0 1.1.9 2 2 2h14c1.1 0 2-.9 2-2V5c0-1.1-.9-2-2-2zM9 17H7v-7h2v7zm4 0h-2V7h2v10zm4 0h-2v-4h2v4z\"/>\n",
              "    </g>\n",
              "</svg>\n",
              "  </button>\n",
              "\n",
              "<style>\n",
              "  .colab-df-quickchart {\n",
              "      --bg-color: #E8F0FE;\n",
              "      --fill-color: #1967D2;\n",
              "      --hover-bg-color: #E2EBFA;\n",
              "      --hover-fill-color: #174EA6;\n",
              "      --disabled-fill-color: #AAA;\n",
              "      --disabled-bg-color: #DDD;\n",
              "  }\n",
              "\n",
              "  [theme=dark] .colab-df-quickchart {\n",
              "      --bg-color: #3B4455;\n",
              "      --fill-color: #D2E3FC;\n",
              "      --hover-bg-color: #434B5C;\n",
              "      --hover-fill-color: #FFFFFF;\n",
              "      --disabled-bg-color: #3B4455;\n",
              "      --disabled-fill-color: #666;\n",
              "  }\n",
              "\n",
              "  .colab-df-quickchart {\n",
              "    background-color: var(--bg-color);\n",
              "    border: none;\n",
              "    border-radius: 50%;\n",
              "    cursor: pointer;\n",
              "    display: none;\n",
              "    fill: var(--fill-color);\n",
              "    height: 32px;\n",
              "    padding: 0;\n",
              "    width: 32px;\n",
              "  }\n",
              "\n",
              "  .colab-df-quickchart:hover {\n",
              "    background-color: var(--hover-bg-color);\n",
              "    box-shadow: 0 1px 2px rgba(60, 64, 67, 0.3), 0 1px 3px 1px rgba(60, 64, 67, 0.15);\n",
              "    fill: var(--button-hover-fill-color);\n",
              "  }\n",
              "\n",
              "  .colab-df-quickchart-complete:disabled,\n",
              "  .colab-df-quickchart-complete:disabled:hover {\n",
              "    background-color: var(--disabled-bg-color);\n",
              "    fill: var(--disabled-fill-color);\n",
              "    box-shadow: none;\n",
              "  }\n",
              "\n",
              "  .colab-df-spinner {\n",
              "    border: 2px solid var(--fill-color);\n",
              "    border-color: transparent;\n",
              "    border-bottom-color: var(--fill-color);\n",
              "    animation:\n",
              "      spin 1s steps(1) infinite;\n",
              "  }\n",
              "\n",
              "  @keyframes spin {\n",
              "    0% {\n",
              "      border-color: transparent;\n",
              "      border-bottom-color: var(--fill-color);\n",
              "      border-left-color: var(--fill-color);\n",
              "    }\n",
              "    20% {\n",
              "      border-color: transparent;\n",
              "      border-left-color: var(--fill-color);\n",
              "      border-top-color: var(--fill-color);\n",
              "    }\n",
              "    30% {\n",
              "      border-color: transparent;\n",
              "      border-left-color: var(--fill-color);\n",
              "      border-top-color: var(--fill-color);\n",
              "      border-right-color: var(--fill-color);\n",
              "    }\n",
              "    40% {\n",
              "      border-color: transparent;\n",
              "      border-right-color: var(--fill-color);\n",
              "      border-top-color: var(--fill-color);\n",
              "    }\n",
              "    60% {\n",
              "      border-color: transparent;\n",
              "      border-right-color: var(--fill-color);\n",
              "    }\n",
              "    80% {\n",
              "      border-color: transparent;\n",
              "      border-right-color: var(--fill-color);\n",
              "      border-bottom-color: var(--fill-color);\n",
              "    }\n",
              "    90% {\n",
              "      border-color: transparent;\n",
              "      border-bottom-color: var(--fill-color);\n",
              "    }\n",
              "  }\n",
              "</style>\n",
              "\n",
              "  <script>\n",
              "    async function quickchart(key) {\n",
              "      const quickchartButtonEl =\n",
              "        document.querySelector('#' + key + ' button');\n",
              "      quickchartButtonEl.disabled = true;  // To prevent multiple clicks.\n",
              "      quickchartButtonEl.classList.add('colab-df-spinner');\n",
              "      try {\n",
              "        const charts = await google.colab.kernel.invokeFunction(\n",
              "            'suggestCharts', [key], {});\n",
              "      } catch (error) {\n",
              "        console.error('Error during call to suggestCharts:', error);\n",
              "      }\n",
              "      quickchartButtonEl.classList.remove('colab-df-spinner');\n",
              "      quickchartButtonEl.classList.add('colab-df-quickchart-complete');\n",
              "    }\n",
              "    (() => {\n",
              "      let quickchartButtonEl =\n",
              "        document.querySelector('#df-3605c6e5-93e3-4ffc-a394-96f22c6a2b4b button');\n",
              "      quickchartButtonEl.style.display =\n",
              "        google.colab.kernel.accessAllowed ? 'block' : 'none';\n",
              "    })();\n",
              "  </script>\n",
              "</div>\n",
              "\n",
              "    </div>\n",
              "  </div>\n"
            ]
          },
          "metadata": {},
          "execution_count": 17
        }
      ]
    },
    {
      "cell_type": "markdown",
      "source": [
        "# **Data Query**"
      ],
      "metadata": {
        "id": "PQSgTtC-BkIg"
      }
    },
    {
      "cell_type": "markdown",
      "source": [
        "**Medical Assessment Report Generation**"
      ],
      "metadata": {
        "id": "Kp7wWS2MAnrh"
      }
    },
    {
      "cell_type": "code",
      "source": [
        "# def assessment_report(messages):\n",
        "#     response = client.chat.completions.create(\n",
        "#       model=\"gpt-3.5-turbo\",\n",
        "#       messages=messages,\n",
        "#       temperature=0.2,\n",
        "#       max_tokens=1024,\n",
        "#       top_p=1,\n",
        "#       frequency_penalty=0.16,\n",
        "#       presence_penalty=0.15\n",
        "#     )\n",
        "#     return response.choices[0].message.content\n"
      ],
      "metadata": {
        "id": "MmUP4X2IAu7p"
      },
      "execution_count": null,
      "outputs": []
    },
    {
      "cell_type": "markdown",
      "source": [
        "### **Fetching Data from Pinecone**"
      ],
      "metadata": {
        "id": "_XMXyXkLDNdV"
      }
    },
    {
      "cell_type": "code",
      "source": [
        "real_query = \"\"\"\n",
        "History:\n",
        "The person recently visited a warm place, maybe tropical or subtropical, \\\n",
        "where dengue fever is common. It's possible they got the dengue virus from mosquito \\\n",
        "bites during their trip.\\\n",
        " Dengue fever is a sickness caused by a virus spread by Aedes mosquitoes.\n",
        "Body Vitals:\n",
        " In the early stage of dengue fever, the person's body temperature \\\n",
        " might go up to about 104°F (40°C). They might also have a strong headache,\\\n",
        " along with pain in the joints and muscles, a rash, and discomfort behind the eyes.\\\n",
        " As the fever continues, \\\n",
        " their blood platelet count might go down, making them more likely to bleed.\n",
        " Description\n",
        " The person is showing signs of dengue fever, like a high fever, intense headache, \\\n",
        " and body pain. They might have a rash on their body and mention pain behind the eyes. \\\n",
        " Doctors are keeping a close eye on the patient's blood platelet count to catch any issues early. \\\n",
        " The patient is getting enough fluids and rest to help them get better.\n",
        "\"\"\"\n",
        "def get_context(query, name_space):\n",
        "  vec_query = embed.embed_documents([query])[0]\n",
        "  description = demo_index.query(vector=vec_query,\n",
        "                                 top_k=3, include_metadata=True,\n",
        "                                 namespace=name_space)\n",
        "\n",
        "  return (description['matches'][0]['metadata']['text_content'],\n",
        "          description['matches'][1]['metadata']['text_content'],\n",
        "          description['matches'][2]['metadata']['text_content'])"
      ],
      "metadata": {
        "id": "-G83g2RuTaWy"
      },
      "execution_count": null,
      "outputs": []
    },
    {
      "cell_type": "code",
      "source": [
        "def prompt_maker(descript1, descript2, descript3, query):\n",
        "  \"\"\"\n",
        "  Build prompt to create first report for doctor.\n",
        "\n",
        "  Paramters\n",
        "  ---------\n",
        "  descript1\n",
        "    First matching of previous data.\n",
        "\n",
        "  descript2\n",
        "    First matching of previous data.\n",
        "  Query\n",
        "    Patient describe what he/ she feels\n",
        "  \"\"\"\n",
        "  previous_patient = f'<<CONTEXT>> \\n {descript1} \\n {descript2} \\n {descript3} \\n <<QUERY>> \\n \\n {query}'\n",
        "  return previous_patient\n",
        "\n"
      ],
      "metadata": {
        "id": "r40P2JQoE5fa"
      },
      "execution_count": null,
      "outputs": []
    },
    {
      "cell_type": "code",
      "source": [
        "context1,context2,context3 =  get_context(real_query, \"dengue\")"
      ],
      "metadata": {
        "id": "wEOvFXPDJtRe"
      },
      "execution_count": null,
      "outputs": []
    },
    {
      "cell_type": "code",
      "source": [
        "patient_data = prompt_maker(context1,context2,context3, real_query)"
      ],
      "metadata": {
        "id": "HDkPAgZhHBmH"
      },
      "execution_count": null,
      "outputs": []
    },
    {
      "cell_type": "code",
      "source": [
        "# # Prompt Template for translation.\n",
        "# patient_fir = [\n",
        "#             {\n",
        "#               \"role\": \"system\",\n",
        "#               \"content\": \"You are a best medical knowledgde curator. You will curate the given text into presentable manner to doctor.\\\n",
        "#                           Keep the content revolve around the Query written under 'QUERY' tag. Kindly not use the \\\n",
        "#                           Context data or refernece to context data in response like age or gender from CONTEXT data.\\\n",
        "#                           Extract only idea from context rewrite the query in four to five sentence.\"\n",
        "#             },\n",
        "#             {\n",
        "#               \"role\": \"user\"\n",
        "\n",
        "#             }\n",
        "#         ]"
      ],
      "metadata": {
        "id": "g3RN1gOIHgNb"
      },
      "execution_count": null,
      "outputs": []
    },
    {
      "cell_type": "code",
      "source": [
        "# patient_fir[1]['content'] = patient_data\n",
        "# patient_fir"
      ],
      "metadata": {
        "id": "SZunZbG0INAn"
      },
      "execution_count": null,
      "outputs": []
    },
    {
      "cell_type": "code",
      "source": [
        "# FIR = assessment_report(patient_fir)\n",
        "# FIR"
      ],
      "metadata": {
        "colab": {
          "base_uri": "https://localhost:8080/",
          "height": 53
        },
        "id": "n6sw4wyxIjSK",
        "outputId": "8b149c3a-a304-4282-b867-94720640a05c"
      },
      "execution_count": null,
      "outputs": [
        {
          "output_type": "execute_result",
          "data": {
            "text/plain": [
              "'Based on the given information, the patient is a 28-year-old female who is experiencing a headache, fever, and weakness for the past two days. She has already taken medication but it did not provide relief. This is a new experience for her as she has not encountered these symptoms before.'"
            ],
            "application/vnd.google.colaboratory.intrinsic+json": {
              "type": "string"
            }
          },
          "metadata": {},
          "execution_count": 81
        }
      ]
    },
    {
      "cell_type": "markdown",
      "source": [
        "**LLM Code Query Code**\n",
        "\n"
      ],
      "metadata": {
        "id": "r_sL0vgL8YQI"
      }
    },
    {
      "cell_type": "code",
      "source": [
        "asthama = \"\"\"You are a exceptionally professional allergy specialist doctor. \\\n",
        " Provide insights, medicines and remedies against data provided by patient. \\\n",
        " Data consist of History, body vitals and description of allergy. Data in CONTEXT \\\n",
        " should be use as a CONTEXT in a  final answer. \\\n",
        " Answer must be in JSON format that consist of doctor's views,\\\n",
        " medicine and remedies as a keys.\n",
        "\n",
        "Here is a Data:\n",
        "{input}\"\"\"\n",
        "\n",
        "\n",
        "dengue_fever = \"\"\"You are a exceptionally professional dengue fever specialist doctor. \\\n",
        " Provide insights, medicines and remedies against data provided by patient. \\\n",
        " Data consist of History, body vitals and description of allergy.Data in CONTEXT \\\n",
        " should be use as a CONTEXT in a  final answer. \\\n",
        " Answer must be in JSON format that consist of doctor's views,\\\n",
        " medicine and remedies as a keys.\n",
        "\n",
        "Here is a Data:\n",
        "{input}\"\"\"\n"
      ],
      "metadata": {
        "id": "KL0u0Gos8B2o"
      },
      "execution_count": null,
      "outputs": []
    },
    {
      "cell_type": "code",
      "source": [
        "prompt_infos = [\n",
        "    {\n",
        "        \"name\": \"asthama\",\n",
        "        \"description\": \"Good for answering asthema related queries\",\n",
        "        \"prompt_template\": asthama\n",
        "    },\n",
        "    {\n",
        "        \"name\": \"dengue_fever\",\n",
        "        \"description\": \"Good for answering dengue fever related question\",\n",
        "        \"prompt_template\": dengue_fever\n",
        "    }\n",
        "  ]"
      ],
      "metadata": {
        "id": "Yut1-noU8nDm"
      },
      "execution_count": null,
      "outputs": []
    },
    {
      "cell_type": "code",
      "source": [
        "llm = ChatOpenAI(\n",
        "      model=\"gpt-4\",\n",
        "      temperature=0.2,\n",
        "      max_tokens=1024\n",
        "    )"
      ],
      "metadata": {
        "id": "jM7BSdCX8qD3"
      },
      "execution_count": null,
      "outputs": []
    },
    {
      "cell_type": "code",
      "source": [
        "default_prompt = ChatPromptTemplate.from_template(\"{input}\")\n",
        "default_chain = LLMChain(llm=llm, prompt=default_prompt)"
      ],
      "metadata": {
        "id": "-1zpgDyK-Hjo"
      },
      "execution_count": null,
      "outputs": []
    },
    {
      "cell_type": "code",
      "source": [
        "destination_chains = {}\n",
        "for p_info in prompt_infos:\n",
        "    name = p_info[\"name\"]\n",
        "    prompt_template = p_info[\"prompt_template\"]\n",
        "    prompt = ChatPromptTemplate.from_template(template=prompt_template)\n",
        "    chain = LLMChain(llm=llm, prompt=prompt)\n",
        "    destination_chains[name] = chain\n",
        "\n",
        "destinations = [f\"{p['name']}: {p['description']}\" for p in prompt_infos]\n",
        "destinations_str = \"\\n\".join(destinations)"
      ],
      "metadata": {
        "id": "srYhPtckC3M5"
      },
      "execution_count": null,
      "outputs": []
    },
    {
      "cell_type": "code",
      "source": [
        "destinations_str"
      ],
      "metadata": {
        "colab": {
          "base_uri": "https://localhost:8080/",
          "height": 35
        },
        "id": "U6n-lQlFC_oe",
        "outputId": "72c7a97a-ca6c-41c1-bca8-6eea3fcc62a6"
      },
      "execution_count": null,
      "outputs": [
        {
          "output_type": "execute_result",
          "data": {
            "text/plain": [
              "'asthama: Good for answering asthema related queries\\ndengue_fever: Good for answering dengue fever related question'"
            ],
            "application/vnd.google.colaboratory.intrinsic+json": {
              "type": "string"
            }
          },
          "metadata": {},
          "execution_count": 18
        }
      ]
    },
    {
      "cell_type": "code",
      "source": [
        "MULTI_PROMPT_ROUTER_TEMPLATE = \"\"\"When presented with a raw text input for a \\\n",
        "language model in the context of medical prompts,\\\n",
        " identify the most appropriate model prompt for the input. \\\n",
        "You will receive the names of the available prompts along with descriptions indicating their\\\n",
        "suitability for specific purposes within the medical domain. Additionally,\\\n",
        "you have the option to modify the original input if you believe that revising it will result\\\n",
        "in a more effective response from the language model.\n",
        "\n",
        "<< FORMATTING >>\n",
        "Return a markdown code snippet with a JSON object formatted to look like:\n",
        "```json\n",
        "{{{{\n",
        "    \"destination\": string \\ name of the prompt to use or \"DEFAULT\"\n",
        "    \"next_inputs\": string \\ a potentially modified version of the original input\n",
        "}}}}\n",
        "```\n",
        "\n",
        "REMEMBER: \"destination\" MUST be one of the candidate prompt \\\n",
        "names specified below OR it can be \"DEFAULT\" if the input is not\\\n",
        "well suited for any of the candidate prompts.\n",
        "REMEMBER: \"next_inputs\" can just be the original input \\\n",
        "if you don't think any modifications are needed.\n",
        "\n",
        "<< CANDIDATE PROMPTS >>\n",
        "{destinations}\n",
        "\n",
        "<< INPUT >>\n",
        "{{input}}\n",
        "\n",
        "<< OUTPUT (remember to include the ```json)>>\"\"\""
      ],
      "metadata": {
        "id": "qUrLdgvv-IeD"
      },
      "execution_count": null,
      "outputs": []
    },
    {
      "cell_type": "code",
      "source": [],
      "metadata": {
        "id": "o-EZrUzdDpze"
      },
      "execution_count": null,
      "outputs": []
    },
    {
      "cell_type": "code",
      "source": [
        "router_template = MULTI_PROMPT_ROUTER_TEMPLATE.format(\n",
        "    destinations=destinations_str\n",
        ")\n",
        "router_prompt = PromptTemplate(\n",
        "    template=router_template,\n",
        "    input_variables=[\"input\"],\n",
        "    output_parser=RouterOutputParser(),\n",
        ")\n",
        "\n",
        "router_chain = LLMRouterChain.from_llm(llm, router_prompt)\n",
        "memory = ConversationBufferWindowMemory(llm=llm, input_key='input', output_key= 'text')\n",
        "chain = MultiPromptChain(router_chain=router_chain,\n",
        "                         destination_chains=destination_chains,\n",
        "                         default_chain=default_chain,\n",
        "                         verbose= True,\n",
        "                         memory= memory,\n",
        "                        )"
      ],
      "metadata": {
        "id": "F1dcl6SY-OaU"
      },
      "execution_count": null,
      "outputs": []
    },
    {
      "cell_type": "code",
      "source": [],
      "metadata": {
        "id": "gbI9OFS8-RyM"
      },
      "execution_count": null,
      "outputs": []
    },
    {
      "cell_type": "code",
      "source": [],
      "metadata": {
        "id": "4gooQDMf-Ssc"
      },
      "execution_count": null,
      "outputs": []
    },
    {
      "cell_type": "code",
      "source": [
        "# query = \"\"\"\n",
        "# History:\n",
        "#  23-year-old white female presents with complaint of allergies. she used to have allergies when she lived in seattle but she thinks they are worse here. in the past, she has tried claritin, and zyrtec. both worked for short time but then seemed to lose effectiveness. she has used allegra also. she used that last summer and she began using it again two weeks ago. it does not appear to be working very well. she has used over-the-counter sprays but no prescription nasal sprays. she does have asthma but doest not require daily medication for this and does not think it is flaring up.\n",
        "#  Primary_Daignose:\n",
        "#   {'vitals': ' weight was 130 pounds and blood pressure 124/78.', 'heent': ' her throat was mildly erythematous without exudate. nasal mucosa was erythematous and swollen. only clear drainage was seen. tms were clear.', 'neck': ' supple without adenopathy.', 'lungs': ' clear.'}\n",
        "#  Description\n",
        "#  a 23-year-old female presents with complaint of allergies.\n",
        "#  \"\"\"\n",
        "\n",
        "# query = \"\"\"\n",
        "# History:\n",
        "# The patient has a history of recent travel to a tropical or subtropical region\n",
        "# where dengue fever is endemic. They may have been exposed to the dengue virus\n",
        "#  through mosquito bites during their travel. Dengue fever is a viral infection\n",
        "#  transmitted by the Aedes mosquito.\n",
        "\n",
        "# Body Vitals:\n",
        "# The patient's body temperature may rise to around 104°F (40°C) during the initial phase of\n",
        "# dengue fever. Additionally, they may experience intense headache, joint and muscle pain, rash,\n",
        "# and pain behind the eyes. As the fever progresses, their blood platelet count may decrease,\n",
        "#  leading to an increased risk of bleeding.\n",
        "# Description:\n",
        "# The patient is presenting symptoms of dengue fever, such as high fever, severe headache,\n",
        "# and body pain. They may have a rash on their body and complain of pain behind the eyes.\n",
        "# The patient's blood platelet count is being monitored regularly to assess their condition\n",
        "# and ensure early detection of any complications. Adequate hydration and rest are being\n",
        "# provided to support the patient's recovery.\n",
        "# \"\"\""
      ],
      "metadata": {
        "id": "_yQEOgj8EXHG"
      },
      "execution_count": null,
      "outputs": []
    },
    {
      "cell_type": "code",
      "source": [
        "# patient_data"
      ],
      "metadata": {
        "id": "tLXOAQkIOi5W"
      },
      "execution_count": null,
      "outputs": []
    },
    {
      "cell_type": "code",
      "source": [
        "data = chain.run(patient_data)\n",
        "data.split('\\n')"
      ],
      "metadata": {
        "colab": {
          "base_uri": "https://localhost:8080/"
        },
        "id": "AzSQLvgt-a6f",
        "outputId": "a498d3b0-b1b8-418e-b639-76f74b86b5eb"
      },
      "execution_count": null,
      "outputs": [
        {
          "output_type": "stream",
          "name": "stdout",
          "text": [
            "\n",
            "\n",
            "\u001b[1m> Entering new MultiPromptChain chain...\u001b[0m\n"
          ]
        },
        {
          "output_type": "stream",
          "name": "stderr",
          "text": [
            "/usr/local/lib/python3.10/dist-packages/langchain/chains/llm.py:316: UserWarning: The predict_and_parse method is deprecated, instead pass an output parser directly to LLMChain.\n",
            "  warnings.warn(\n"
          ]
        },
        {
          "output_type": "stream",
          "name": "stdout",
          "text": [
            "dengue_fever: {'input': \"History: The person recently visited a warm place, maybe tropical or subtropical, where dengue fever is common. It's possible they got the dengue virus from mosquito bites during their trip. Dengue fever is a sickness caused by a virus spread by Aedes mosquitoes. Body Vitals: In the early stage of dengue fever, the person's body temperature  might go up to about 104°F (40°C). They might also have a strong headache,along with pain in the joints and muscles, a rash, and discomfort behind the eyes. As the fever continues,  their blood platelet count might go down, making them more likely to bleed. Description: The person is showing signs of dengue fever, like a high fever, intense headache,  and body pain. They might have a rash on their body and mention pain behind the eyes.  Doctors are keeping a close eye on the patient's blood platelet count to catch any issues early.  The patient is getting enough fluids and rest to help them get better.\"}\n",
            "\u001b[1m> Finished chain.\u001b[0m\n"
          ]
        }
      ]
    },
    {
      "cell_type": "code",
      "source": [
        "data.split('\\n')"
      ],
      "metadata": {
        "colab": {
          "base_uri": "https://localhost:8080/"
        },
        "id": "aLyNVa-_OHit",
        "outputId": "0953c834-70dc-4109-c6ed-66f8ebecf552"
      },
      "execution_count": null,
      "outputs": [
        {
          "output_type": "execute_result",
          "data": {
            "text/plain": [
              "['{',\n",
              " '  \"Doctor\\'s Views\": \"Based on the patient\\'s history, body vitals, and symptoms, it is highly likely that the patient is suffering from dengue fever. The recent travel to a tropical or subtropical region, the high fever, severe headache, joint and muscle pain, rash, and discomfort behind the eyes are all indicative of dengue fever. The decrease in platelet count is also a common symptom of dengue fever. It is crucial to monitor the patient\\'s condition closely, especially the platelet count, to prevent complications such as dengue hemorrhagic fever and dengue shock syndrome.\",',\n",
              " '',\n",
              " '  \"Medicines\": \"There is no specific medicine to treat dengue infection. However, the patient can take pain relievers with acetaminophen and avoid medicines with aspirin, which could worsen bleeding. It is also important to stay hydrated. If the symptoms worsen, the patient should be hospitalized and might need intravenous (IV) fluids and electrolyte replacement, blood pressure monitoring, and transfusion to replace blood loss.\",',\n",
              " '',\n",
              " '  \"Remedies\": \"The patient should get plenty of rest and drink enough fluids to prevent dehydration. Over-the-counter pain relievers can be used to reduce fever and alleviate pain. However, aspirin or ibuprofen should be avoided as they can increase the risk of bleeding. The patient should also avoid mosquito bites to prevent the spread of the virus to others.\"',\n",
              " '}']"
            ]
          },
          "metadata": {},
          "execution_count": 36
        }
      ]
    },
    {
      "cell_type": "code",
      "source": [
        "def doctor_prescription(textbox_value):\n",
        "    data = chain.run(patient_data)\n",
        "    return (data.split('\\n'))\n",
        "\n",
        "iface = gr.Interface(\n",
        "    fn=doctor_prescription,\n",
        "    inputs=gr.TextArea( value =\"Enter Text Here\", label=\"Patient's FIR\"),\n",
        "    outputs=gr.TextArea(label= \"Prescription\"),\n",
        "    live=True,\n",
        "    examples=[\n",
        "        [patient_data],\n",
        "    ]\n",
        ")\n",
        "iface.launch()\n"
      ],
      "metadata": {
        "colab": {
          "base_uri": "https://localhost:8080/",
          "height": 626
        },
        "id": "blcJ6kKeQwVS",
        "outputId": "2cfbb448-f1cb-4932-d6ea-94aa956efedf"
      },
      "execution_count": null,
      "outputs": [
        {
          "output_type": "stream",
          "name": "stdout",
          "text": [
            "Setting queue=True in a Colab notebook requires sharing enabled. Setting `share=True` (you can turn this off by setting `share=False` in `launch()` explicitly).\n",
            "\n",
            "Colab notebook detected. To show errors in colab notebook, set debug=True in launch()\n",
            "Running on public URL: https://efc7aca8bb4474ec90.gradio.live\n",
            "\n",
            "This share link expires in 72 hours. For free permanent hosting and GPU upgrades, run `gradio deploy` from Terminal to deploy to Spaces (https://huggingface.co/spaces)\n"
          ]
        },
        {
          "output_type": "display_data",
          "data": {
            "text/plain": [
              "<IPython.core.display.HTML object>"
            ],
            "text/html": [
              "<div><iframe src=\"https://efc7aca8bb4474ec90.gradio.live\" width=\"100%\" height=\"500\" allow=\"autoplay; camera; microphone; clipboard-read; clipboard-write;\" frameborder=\"0\" allowfullscreen></iframe></div>"
            ]
          },
          "metadata": {}
        },
        {
          "output_type": "execute_result",
          "data": {
            "text/plain": []
          },
          "metadata": {},
          "execution_count": 22
        }
      ]
    }
  ]
}